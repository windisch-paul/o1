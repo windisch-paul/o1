{
 "cells": [
  {
   "cell_type": "markdown",
   "metadata": {},
   "source": [
    "# Setup"
   ]
  },
  {
   "cell_type": "markdown",
   "metadata": {},
   "source": [
    "## Imports"
   ]
  },
  {
   "cell_type": "code",
   "execution_count": 1,
   "metadata": {},
   "outputs": [],
   "source": [
    "import pandas as pd\n",
    "import numpy as np\n",
    "import seaborn as sns\n",
    "import matplotlib.pyplot as plt\n",
    "import re\n"
   ]
  },
  {
   "cell_type": "markdown",
   "metadata": {},
   "source": [
    "# Read data"
   ]
  },
  {
   "cell_type": "code",
   "execution_count": 2,
   "metadata": {},
   "outputs": [],
   "source": [
    "df = pd.read_csv(\"metastatic_local_o1.csv\")\n"
   ]
  },
  {
   "cell_type": "markdown",
   "metadata": {},
   "source": [
    "# Preprocessing"
   ]
  },
  {
   "cell_type": "markdown",
   "metadata": {},
   "source": [
    "## Ground truth"
   ]
  },
  {
   "cell_type": "code",
   "execution_count": 3,
   "metadata": {},
   "outputs": [],
   "source": [
    "# Create ground_truth_metastatic and ground_truth_local columns from accept column\n",
    "df[\"ground_truth_metastatic\"] = df[\"accept\"].str.contains(\"METASTATIC\")\n",
    "df[\"ground_truth_local\"] = df[\"accept\"].str.contains(\"LOCAL\")\n"
   ]
  },
  {
   "cell_type": "markdown",
   "metadata": {},
   "source": [
    "## GPT 4o"
   ]
  },
  {
   "cell_type": "code",
   "execution_count": 4,
   "metadata": {},
   "outputs": [],
   "source": [
    "# Create gpt4o_metastatic and gpt4o_local columns from gpt4o_temp100_response_raw column\n",
    "df[[\"gpt4o_metastatic\", \"gpt4o_local\"]] = df[\"gpt4o_temp100_response_raw\"].str.extract(r\"\\[(True|False), (True|False)\\]\")\n",
    "# Convert strings to boolean values\n",
    "df[[\"gpt4o_metastatic\", \"gpt4o_local\"]] = df[[\"gpt4o_metastatic\", \"gpt4o_local\"]].apply(lambda x: x.map({\"True\": True, \"False\": False}))\n"
   ]
  },
  {
   "cell_type": "markdown",
   "metadata": {},
   "source": [
    "## o1"
   ]
  },
  {
   "cell_type": "code",
   "execution_count": 51,
   "metadata": {},
   "outputs": [
    {
     "name": "stdout",
     "output_type": "stream",
     "text": [
      "Number of verbose outputs: 84 (14.0%)\n",
      "Number of non-verbose outputs: 516 (86.0%)\n",
      "Number of trials for which o1_metastatic and o1_local are none: 11 (1.8%)\n"
     ]
    }
   ],
   "source": [
    "# Identify cells with verbose output\n",
    "df[\"o1_verbose\"] = df[\"o1_temp100_response_raw\"].str.len() > 14\n",
    "\n",
    "# Count the number of verbose outputs\n",
    "verbose_count = df[\"o1_verbose\"].sum()\n",
    "\n",
    "# Calculate the percentage of verbose outputs\n",
    "verbose_percentage = 100 * verbose_count / df.shape[0]\n",
    "print(f\"Number of verbose outputs: {verbose_count} ({verbose_percentage:.1f}%)\")\n",
    "\n",
    "# Calculate the number and percentage of non-verbose outputs\n",
    "non_verbose_count = df.shape[0] - verbose_count\n",
    "non_verbose_percentage = 100 * non_verbose_count / df.shape[0]\n",
    "print(f\"Number of non-verbose outputs: {non_verbose_count} ({non_verbose_percentage:.1f}%)\")\n",
    "\n",
    "# Calculate the number and percentage of trials for which o1_metastatic and o1_local are none\n",
    "none_count = df[df[\"o1_metastatic\"].isna() & df[\"o1_local\"].isna()].shape[0]\n",
    "none_percentage = 100 * none_count / df.shape[0]\n",
    "print(f\"Number of trials for which o1_metastatic and o1_local are none: {none_count} ({none_percentage:.1f}%)\")\n",
    "\n",
    "# Create a dataframe with only the verbose outputs\n",
    "df_verbose = df[df[\"o1_verbose\"]]\n",
    "\n",
    "# Create a dataframe with verbose outputs for which o1_metastatic and o1_local are not none\n",
    "df_verbose_not_none = df_verbose[df_verbose[\"o1_metastatic\"].notna() & df_verbose[\"o1_local\"].notna()]"
   ]
  },
  {
   "cell_type": "code",
   "execution_count": 6,
   "metadata": {},
   "outputs": [],
   "source": [
    "# Use regular expressions to extract the boolean values. Create two columns from the extracted values\n",
    "df[[\"o1_metastatic\", \"o1_local\"]] = df[\"o1_temp100_response_raw\"].str.extract(\n",
    "    r\"\\[(True|False), (True|False)\\]\"\n",
    ")\n",
    "\n",
    "# Convert strings to boolean values\n",
    "df[[\"o1_metastatic\", \"o1_local\"]] = df[[\"o1_metastatic\", \"o1_local\"]].apply(\n",
    "    lambda x: x.map({\"True\": True, \"False\": False})\n",
    ")"
   ]
  },
  {
   "cell_type": "code",
   "execution_count": 46,
   "metadata": {},
   "outputs": [
    {
     "data": {
      "text/html": [
       "<div>\n",
       "<style scoped>\n",
       "    .dataframe tbody tr th:only-of-type {\n",
       "        vertical-align: middle;\n",
       "    }\n",
       "\n",
       "    .dataframe tbody tr th {\n",
       "        vertical-align: top;\n",
       "    }\n",
       "\n",
       "    .dataframe thead th {\n",
       "        text-align: right;\n",
       "    }\n",
       "</style>\n",
       "<table border=\"1\" class=\"dataframe\">\n",
       "  <thead>\n",
       "    <tr style=\"text-align: right;\">\n",
       "      <th></th>\n",
       "      <th>doi</th>\n",
       "      <th>date</th>\n",
       "      <th>title</th>\n",
       "      <th>abstract</th>\n",
       "      <th>accept</th>\n",
       "      <th>tumor_type</th>\n",
       "      <th>family</th>\n",
       "      <th>gpt4o_temp100_response_raw</th>\n",
       "      <th>o1_temp100_response_raw</th>\n",
       "      <th>ground_truth_metastatic</th>\n",
       "      <th>ground_truth_local</th>\n",
       "      <th>gpt4o_metastatic</th>\n",
       "      <th>gpt4o_local</th>\n",
       "      <th>o1_verbose</th>\n",
       "      <th>o1_metastatic</th>\n",
       "      <th>o1_local</th>\n",
       "    </tr>\n",
       "  </thead>\n",
       "  <tbody>\n",
       "    <tr>\n",
       "      <th>61</th>\n",
       "      <td>10.1016/S1470-2045(09)70364-X</td>\n",
       "      <td>2/1/10</td>\n",
       "      <td>Gefitinib versus cisplatin plus docetaxel in p...</td>\n",
       "      <td>BACKGROUND: Patients with non-small-cell lung ...</td>\n",
       "      <td>['LOCAL', 'METASTATIC']</td>\n",
       "      <td>['NSCLC']</td>\n",
       "      <td>Lung/Thoracic</td>\n",
       "      <td>[True, False]</td>\n",
       "      <td>Based on the provided abstract, the eligibilit...</td>\n",
       "      <td>True</td>\n",
       "      <td>True</td>\n",
       "      <td>True</td>\n",
       "      <td>False</td>\n",
       "      <td>True</td>\n",
       "      <td>NaN</td>\n",
       "      <td>NaN</td>\n",
       "    </tr>\n",
       "    <tr>\n",
       "      <th>148</th>\n",
       "      <td>10.1200/JCO.22.00380</td>\n",
       "      <td>11/10/22</td>\n",
       "      <td>FLOT Versus FLOT/Trastuzumab/Pertuzumab Periop...</td>\n",
       "      <td>PURPOSE: High pathologic complete response (pC...</td>\n",
       "      <td>['LOCAL']</td>\n",
       "      <td>['Esophageal']</td>\n",
       "      <td>Gastrointestinal</td>\n",
       "      <td>[False, True]</td>\n",
       "      <td>Based on the provided abstract, let's analyze ...</td>\n",
       "      <td>False</td>\n",
       "      <td>True</td>\n",
       "      <td>False</td>\n",
       "      <td>True</td>\n",
       "      <td>True</td>\n",
       "      <td>NaN</td>\n",
       "      <td>NaN</td>\n",
       "    </tr>\n",
       "    <tr>\n",
       "      <th>258</th>\n",
       "      <td>10.1200/JCO.2007.15.5655</td>\n",
       "      <td>10/1/08</td>\n",
       "      <td>Dynamic contrast-enhanced magnetic resonance i...</td>\n",
       "      <td>PURPOSE: Sorafenib is an antiangiogenic agent ...</td>\n",
       "      <td>['METASTATIC']</td>\n",
       "      <td>['Renal', 'General metastases']</td>\n",
       "      <td>Urogenital</td>\n",
       "      <td>[True, False]</td>\n",
       "      <td>After closely analyzing the abstract, we can d...</td>\n",
       "      <td>True</td>\n",
       "      <td>False</td>\n",
       "      <td>True</td>\n",
       "      <td>False</td>\n",
       "      <td>True</td>\n",
       "      <td>NaN</td>\n",
       "      <td>NaN</td>\n",
       "    </tr>\n",
       "    <tr>\n",
       "      <th>336</th>\n",
       "      <td>10.1200/JCO.2006.10.6179</td>\n",
       "      <td>4/1/08</td>\n",
       "      <td>Phase III randomized placebo-controlled trial ...</td>\n",
       "      <td>PURPOSE: Prior progestin studies treating hot ...</td>\n",
       "      <td>['LOCAL']</td>\n",
       "      <td>['Breast']</td>\n",
       "      <td>Breast/Gynecological</td>\n",
       "      <td>[False, True]</td>\n",
       "      <td>Based on the abstract provided, the eligibilit...</td>\n",
       "      <td>False</td>\n",
       "      <td>True</td>\n",
       "      <td>False</td>\n",
       "      <td>True</td>\n",
       "      <td>True</td>\n",
       "      <td>NaN</td>\n",
       "      <td>NaN</td>\n",
       "    </tr>\n",
       "    <tr>\n",
       "      <th>345</th>\n",
       "      <td>10.1200/JCO.2008.18.6015</td>\n",
       "      <td>5/20/09</td>\n",
       "      <td>Vandetanib versus gefitinib in patients with a...</td>\n",
       "      <td>PURPOSE: Vandetanib is a once-daily oral inhib...</td>\n",
       "      <td>['LOCAL', 'METASTATIC']</td>\n",
       "      <td>['NSCLC']</td>\n",
       "      <td>Lung/Thoracic</td>\n",
       "      <td>[True, True]</td>\n",
       "      <td>Based on the information provided in the abstr...</td>\n",
       "      <td>True</td>\n",
       "      <td>True</td>\n",
       "      <td>True</td>\n",
       "      <td>True</td>\n",
       "      <td>True</td>\n",
       "      <td>NaN</td>\n",
       "      <td>NaN</td>\n",
       "    </tr>\n",
       "    <tr>\n",
       "      <th>428</th>\n",
       "      <td>10.1001/jamaoncol.2016.4510</td>\n",
       "      <td>2/1/17</td>\n",
       "      <td>Effect of Standard Radiotherapy With Cisplatin...</td>\n",
       "      <td>IMPORTANCE: The Canadian Cancer Trials Group s...</td>\n",
       "      <td>['LOCAL']</td>\n",
       "      <td>['Head &amp; neck']</td>\n",
       "      <td>Head &amp; neck</td>\n",
       "      <td>[False, True]</td>\n",
       "      <td>To determine the eligibility criteria for pati...</td>\n",
       "      <td>False</td>\n",
       "      <td>True</td>\n",
       "      <td>False</td>\n",
       "      <td>True</td>\n",
       "      <td>True</td>\n",
       "      <td>NaN</td>\n",
       "      <td>NaN</td>\n",
       "    </tr>\n",
       "    <tr>\n",
       "      <th>433</th>\n",
       "      <td>10.1016/S0140-6736(07)61086-1</td>\n",
       "      <td>7/14/07</td>\n",
       "      <td>Sequential versus combination chemotherapy wit...</td>\n",
       "      <td>BACKGROUND: The optimum use of cytotoxic drugs...</td>\n",
       "      <td>['METASTATIC', 'LOCAL']</td>\n",
       "      <td>['Colorectal']</td>\n",
       "      <td>Gastrointestinal</td>\n",
       "      <td>[True, False]</td>\n",
       "      <td>To determine the eligibility of patients with ...</td>\n",
       "      <td>True</td>\n",
       "      <td>True</td>\n",
       "      <td>True</td>\n",
       "      <td>False</td>\n",
       "      <td>True</td>\n",
       "      <td>NaN</td>\n",
       "      <td>NaN</td>\n",
       "    </tr>\n",
       "    <tr>\n",
       "      <th>465</th>\n",
       "      <td>10.1200/JCO.22.00392</td>\n",
       "      <td>1/1/23</td>\n",
       "      <td>Lenvatinib Combined With Transarterial Chemoem...</td>\n",
       "      <td>PURPOSE: Lenvatinib (LEN) is a first-line ther...</td>\n",
       "      <td>['LOCAL', 'METASTATIC']</td>\n",
       "      <td>['Hepatocellular']</td>\n",
       "      <td>Gastrointestinal</td>\n",
       "      <td>[True, False]</td>\n",
       "      <td>Based on the abstract provided, we can derive ...</td>\n",
       "      <td>True</td>\n",
       "      <td>True</td>\n",
       "      <td>True</td>\n",
       "      <td>False</td>\n",
       "      <td>True</td>\n",
       "      <td>NaN</td>\n",
       "      <td>NaN</td>\n",
       "    </tr>\n",
       "    <tr>\n",
       "      <th>467</th>\n",
       "      <td>10.1001/jamaoncol.2023.4003</td>\n",
       "      <td>12/1/23</td>\n",
       "      <td>Tislelizumab vs Sorafenib as First-Line Treatm...</td>\n",
       "      <td>IMPORTANCE: Hepatocellular carcinoma (HCC) is ...</td>\n",
       "      <td>['LOCAL', 'METASTATIC']</td>\n",
       "      <td>['Hepatocellular']</td>\n",
       "      <td>Gastrointestinal</td>\n",
       "      <td>[True, True]</td>\n",
       "      <td>To determine the eligibility of patients with ...</td>\n",
       "      <td>True</td>\n",
       "      <td>True</td>\n",
       "      <td>True</td>\n",
       "      <td>True</td>\n",
       "      <td>True</td>\n",
       "      <td>NaN</td>\n",
       "      <td>NaN</td>\n",
       "    </tr>\n",
       "    <tr>\n",
       "      <th>494</th>\n",
       "      <td>10.1200/JCO.2012.45.4272</td>\n",
       "      <td>4/10/13</td>\n",
       "      <td>Phase III randomized, placebo-controlled trial...</td>\n",
       "      <td>PURPOSE: We hypothesized that the addition of ...</td>\n",
       "      <td>['LOCAL', 'METASTATIC']</td>\n",
       "      <td>['Head &amp; neck', 'General metastases']</td>\n",
       "      <td>Head &amp; neck</td>\n",
       "      <td>[True, False]</td>\n",
       "      <td>Based on the information provided in the abstr...</td>\n",
       "      <td>True</td>\n",
       "      <td>True</td>\n",
       "      <td>True</td>\n",
       "      <td>False</td>\n",
       "      <td>True</td>\n",
       "      <td>NaN</td>\n",
       "      <td>NaN</td>\n",
       "    </tr>\n",
       "    <tr>\n",
       "      <th>505</th>\n",
       "      <td>10.1016/S1470-2045(18)30862-3</td>\n",
       "      <td>3/1/19</td>\n",
       "      <td>Adjuvant denosumab in postmenopausal patients ...</td>\n",
       "      <td>BACKGROUND: In postmenopausal women with hormo...</td>\n",
       "      <td>['LOCAL']</td>\n",
       "      <td>['Breast']</td>\n",
       "      <td>Breast/Gynecological</td>\n",
       "      <td>[False, True]</td>\n",
       "      <td>To determine the eligibility criteria for the ...</td>\n",
       "      <td>False</td>\n",
       "      <td>True</td>\n",
       "      <td>False</td>\n",
       "      <td>True</td>\n",
       "      <td>True</td>\n",
       "      <td>NaN</td>\n",
       "      <td>NaN</td>\n",
       "    </tr>\n",
       "  </tbody>\n",
       "</table>\n",
       "</div>"
      ],
      "text/plain": [
       "                               doi      date  \\\n",
       "61   10.1016/S1470-2045(09)70364-X    2/1/10   \n",
       "148           10.1200/JCO.22.00380  11/10/22   \n",
       "258       10.1200/JCO.2007.15.5655   10/1/08   \n",
       "336       10.1200/JCO.2006.10.6179    4/1/08   \n",
       "345       10.1200/JCO.2008.18.6015   5/20/09   \n",
       "428    10.1001/jamaoncol.2016.4510    2/1/17   \n",
       "433  10.1016/S0140-6736(07)61086-1   7/14/07   \n",
       "465           10.1200/JCO.22.00392    1/1/23   \n",
       "467    10.1001/jamaoncol.2023.4003   12/1/23   \n",
       "494       10.1200/JCO.2012.45.4272   4/10/13   \n",
       "505  10.1016/S1470-2045(18)30862-3    3/1/19   \n",
       "\n",
       "                                                 title  \\\n",
       "61   Gefitinib versus cisplatin plus docetaxel in p...   \n",
       "148  FLOT Versus FLOT/Trastuzumab/Pertuzumab Periop...   \n",
       "258  Dynamic contrast-enhanced magnetic resonance i...   \n",
       "336  Phase III randomized placebo-controlled trial ...   \n",
       "345  Vandetanib versus gefitinib in patients with a...   \n",
       "428  Effect of Standard Radiotherapy With Cisplatin...   \n",
       "433  Sequential versus combination chemotherapy wit...   \n",
       "465  Lenvatinib Combined With Transarterial Chemoem...   \n",
       "467  Tislelizumab vs Sorafenib as First-Line Treatm...   \n",
       "494  Phase III randomized, placebo-controlled trial...   \n",
       "505  Adjuvant denosumab in postmenopausal patients ...   \n",
       "\n",
       "                                              abstract  \\\n",
       "61   BACKGROUND: Patients with non-small-cell lung ...   \n",
       "148  PURPOSE: High pathologic complete response (pC...   \n",
       "258  PURPOSE: Sorafenib is an antiangiogenic agent ...   \n",
       "336  PURPOSE: Prior progestin studies treating hot ...   \n",
       "345  PURPOSE: Vandetanib is a once-daily oral inhib...   \n",
       "428  IMPORTANCE: The Canadian Cancer Trials Group s...   \n",
       "433  BACKGROUND: The optimum use of cytotoxic drugs...   \n",
       "465  PURPOSE: Lenvatinib (LEN) is a first-line ther...   \n",
       "467  IMPORTANCE: Hepatocellular carcinoma (HCC) is ...   \n",
       "494  PURPOSE: We hypothesized that the addition of ...   \n",
       "505  BACKGROUND: In postmenopausal women with hormo...   \n",
       "\n",
       "                      accept                             tumor_type  \\\n",
       "61   ['LOCAL', 'METASTATIC']                              ['NSCLC']   \n",
       "148                ['LOCAL']                         ['Esophageal']   \n",
       "258           ['METASTATIC']        ['Renal', 'General metastases']   \n",
       "336                ['LOCAL']                             ['Breast']   \n",
       "345  ['LOCAL', 'METASTATIC']                              ['NSCLC']   \n",
       "428                ['LOCAL']                        ['Head & neck']   \n",
       "433  ['METASTATIC', 'LOCAL']                         ['Colorectal']   \n",
       "465  ['LOCAL', 'METASTATIC']                     ['Hepatocellular']   \n",
       "467  ['LOCAL', 'METASTATIC']                     ['Hepatocellular']   \n",
       "494  ['LOCAL', 'METASTATIC']  ['Head & neck', 'General metastases']   \n",
       "505                ['LOCAL']                             ['Breast']   \n",
       "\n",
       "                   family gpt4o_temp100_response_raw  \\\n",
       "61          Lung/Thoracic              [True, False]   \n",
       "148      Gastrointestinal              [False, True]   \n",
       "258            Urogenital              [True, False]   \n",
       "336  Breast/Gynecological              [False, True]   \n",
       "345         Lung/Thoracic               [True, True]   \n",
       "428           Head & neck              [False, True]   \n",
       "433      Gastrointestinal              [True, False]   \n",
       "465      Gastrointestinal              [True, False]   \n",
       "467      Gastrointestinal               [True, True]   \n",
       "494           Head & neck              [True, False]   \n",
       "505  Breast/Gynecological              [False, True]   \n",
       "\n",
       "                               o1_temp100_response_raw  \\\n",
       "61   Based on the provided abstract, the eligibilit...   \n",
       "148  Based on the provided abstract, let's analyze ...   \n",
       "258  After closely analyzing the abstract, we can d...   \n",
       "336  Based on the abstract provided, the eligibilit...   \n",
       "345  Based on the information provided in the abstr...   \n",
       "428  To determine the eligibility criteria for pati...   \n",
       "433  To determine the eligibility of patients with ...   \n",
       "465  Based on the abstract provided, we can derive ...   \n",
       "467  To determine the eligibility of patients with ...   \n",
       "494  Based on the information provided in the abstr...   \n",
       "505  To determine the eligibility criteria for the ...   \n",
       "\n",
       "     ground_truth_metastatic  ground_truth_local  gpt4o_metastatic  \\\n",
       "61                      True                True              True   \n",
       "148                    False                True             False   \n",
       "258                     True               False              True   \n",
       "336                    False                True             False   \n",
       "345                     True                True              True   \n",
       "428                    False                True             False   \n",
       "433                     True                True              True   \n",
       "465                     True                True              True   \n",
       "467                     True                True              True   \n",
       "494                     True                True              True   \n",
       "505                    False                True             False   \n",
       "\n",
       "     gpt4o_local  o1_verbose o1_metastatic o1_local  \n",
       "61         False        True           NaN      NaN  \n",
       "148         True        True           NaN      NaN  \n",
       "258        False        True           NaN      NaN  \n",
       "336         True        True           NaN      NaN  \n",
       "345         True        True           NaN      NaN  \n",
       "428         True        True           NaN      NaN  \n",
       "433        False        True           NaN      NaN  \n",
       "465        False        True           NaN      NaN  \n",
       "467         True        True           NaN      NaN  \n",
       "494        False        True           NaN      NaN  \n",
       "505         True        True           NaN      NaN  "
      ]
     },
     "execution_count": 46,
     "metadata": {},
     "output_type": "execute_result"
    }
   ],
   "source": [
    "# Plot rows for which o1_metastatic is none\n",
    "df[df[\"o1_metastatic\"].isna()]\n"
   ]
  },
  {
   "cell_type": "markdown",
   "metadata": {},
   "source": [
    "# Analysis"
   ]
  },
  {
   "cell_type": "markdown",
   "metadata": {},
   "source": [
    "## Dataset characteristics"
   ]
  },
  {
   "cell_type": "code",
   "execution_count": 8,
   "metadata": {},
   "outputs": [
    {
     "name": "stdout",
     "output_type": "stream",
     "text": [
      "Percentage of trials that allow both metastatic and localized disease: 37.8%\n",
      "Percentage of trials that allow metastatic disease but not localized disease: 21.3%\n",
      "Percentage of trials that allow localized disease but not metastatic disease: 35.8%\n",
      "Percentage of trials that allow neither metastatic nor localized disease: 5.0%\n",
      "Percentage of trials that allow localized disease: 73.7%\n",
      "Percentage of trials that allow metastatic disease: 59.2%\n"
     ]
    }
   ],
   "source": [
    "# Create a crosstab of the ground truth local and metastatic columns\n",
    "cross_tab = pd.crosstab(df[\"ground_truth_local\"], df[\"ground_truth_metastatic\"])\n",
    "\n",
    "# Calculate percentages of respective fields in the data set\n",
    "metastatic_and_local = 100 * cross_tab.loc[True, True] / df.shape[0]\n",
    "metastatic_not_local = 100 * cross_tab.loc[False, True] / df.shape[0]\n",
    "local_not_metastatic = 100 * cross_tab.loc[True, False] / df.shape[0]\n",
    "neither = 100 * cross_tab.loc[False, False] / df.shape[0]\n",
    "local = 100 * (metastatic_and_local + local_not_metastatic) / 100\n",
    "metastatic = 100 * (metastatic_and_local + metastatic_not_local) / 100\n",
    "\n",
    "print(\n",
    "    f\"Percentage of trials that allow both metastatic and localized disease: {metastatic_and_local:.1f}%\"\n",
    ")\n",
    "print(\n",
    "    f\"Percentage of trials that allow metastatic disease but not localized disease: {metastatic_not_local:.1f}%\"\n",
    ")\n",
    "print(\n",
    "    f\"Percentage of trials that allow localized disease but not metastatic disease: {local_not_metastatic:.1f}%\"\n",
    ")\n",
    "print(\n",
    "    f\"Percentage of trials that allow neither metastatic nor localized disease: {neither:.1f}%\"\n",
    ")\n",
    "print(f\"Percentage of trials that allow localized disease: {local:.1f}%\")\n",
    "print(f\"Percentage of trials that allow metastatic disease: {metastatic:.1f}%\")"
   ]
  },
  {
   "cell_type": "code",
   "execution_count": 9,
   "metadata": {},
   "outputs": [
    {
     "data": {
      "image/png": "[encoded data removed]",
      "text/plain": [
       "<Figure size 500x500 with 1 Axes>"
      ]
     },
     "metadata": {},
     "output_type": "display_data"
    }
   ],
   "source": [
    "# Visualize the distribution of local and metastatic in the data set\n",
    "fig = plt.figure(figsize=(5, 5))\n",
    "\n",
    "# Create annotation labels with counts and percentages\n",
    "labels = cross_tab.values.astype(str)\n",
    "labels[0,0] = f\"{cross_tab.values[0,0]} ({neither:.1f}%)\"\n",
    "labels[0,1] = f\"{cross_tab.values[0,1]} ({metastatic_not_local:.1f}%)\" \n",
    "labels[1,0] = f\"{cross_tab.values[1,0]} ({local_not_metastatic:.1f}%)\"\n",
    "labels[1,1] = f\"{cross_tab.values[1,1]} ({metastatic_and_local:.1f}%)\"\n",
    "\n",
    "sns.heatmap(cross_tab, annot=labels, cmap=\"Blues\", fmt=\"\")\n",
    "plt.xlabel(\"Metastatic disease allowed\")\n",
    "plt.ylabel(\"Localized disease allowed\")\n",
    "plt.xticks([0.5, 1.5], [\"No\", \"Yes\"])\n",
    "plt.yticks([0.5, 1.5], [\"No\", \"Yes\"])\n",
    "# Remove the colorbar but keep the width of the heatmap\n",
    "plt.gca().collections[0].colorbar.remove()\n",
    "plt.show()\n",
    "fig.savefig(\"plots/characteristics.png\", dpi=300, bbox_inches=\"tight\")"
   ]
  },
  {
   "cell_type": "code",
   "execution_count": 11,
   "metadata": {},
   "outputs": [
    {
     "data": {
      "image/png": "[encoded data removed]",
      "text/plain": [
       "<Figure size 500x500 with 1 Axes>"
      ]
     },
     "metadata": {},
     "output_type": "display_data"
    }
   ],
   "source": [
    "# Create a pie chart of the distribution of tumor family in the data set using seaborn\n",
    "fig = plt.figure(figsize=(5, 5))\n",
    "sns.set_palette(\"Blues\")\n",
    "df[\"family\"].value_counts().plot.pie(autopct=\"%1.1f%%\")\n",
    "plt.ylabel(\"\")\n",
    "plt.show()\n",
    "\n",
    "fig.savefig(\"plots/family_distribution.png\", dpi=300, bbox_inches=\"tight\")"
   ]
  },
  {
   "cell_type": "markdown",
   "metadata": {},
   "source": [
    "## Analyze the performance of the models"
   ]
  },
  {
   "cell_type": "markdown",
   "metadata": {},
   "source": [
    "### GPT-4o"
   ]
  },
  {
   "cell_type": "code",
   "execution_count": 12,
   "metadata": {},
   "outputs": [
    {
     "name": "stdout",
     "output_type": "stream",
     "text": [
      "Accuracy: 0.74 (0.71 - 0.78)\n",
      "Precision: 0.96 (0.95 - 0.98)\n",
      "Recall: 0.68 (0.64 - 0.71)\n",
      "F1 score: 0.80 (0.76 - 0.83)\n"
     ]
    }
   ],
   "source": [
    "# Create confusion matrix of predicted and actual values for LOCAL\n",
    "cm_gpt4o_local = pd.crosstab(df[\"ground_truth_local\"], df[\"gpt4o_local\"])\n",
    "\n",
    "# Calculate true positives, false positives, false negatives, and true negatives\n",
    "tp_gpt4o_local = cm_gpt4o_local.loc[True, True]\n",
    "fp_gpt4o_local = cm_gpt4o_local.loc[False, True]\n",
    "fn_gpt4o_local = cm_gpt4o_local.loc[True, False]\n",
    "tn_gpt4o_local = cm_gpt4o_local.loc[False, False]\n",
    "\n",
    "# Calculate accuracy, precision, recall, f1 score\n",
    "accuracy_gpt4o_local = (tp_gpt4o_local + tn_gpt4o_local) / (\n",
    "    tp_gpt4o_local + tn_gpt4o_local + fp_gpt4o_local + fn_gpt4o_local\n",
    ")\n",
    "precision_gpt4o_local = tp_gpt4o_local / (tp_gpt4o_local + fp_gpt4o_local)\n",
    "recall_gpt4o_local = tp_gpt4o_local / (tp_gpt4o_local + fn_gpt4o_local)\n",
    "f1_score_gpt4o_local = (\n",
    "    2\n",
    "    * precision_gpt4o_local\n",
    "    * recall_gpt4o_local\n",
    "    / (precision_gpt4o_local + recall_gpt4o_local)\n",
    ")\n",
    "\n",
    "# Calucalate the 95% confidence interval for the accuracy, precision, recall, and f1 score\n",
    "accuracy_gpt4o_local_ci = 1.96 * np.sqrt(\n",
    "    (accuracy_gpt4o_local * (1 - accuracy_gpt4o_local)) / df.shape[0]\n",
    ")\n",
    "precision_gpt4o_local_ci = 1.96 * np.sqrt(\n",
    "    (precision_gpt4o_local * (1 - precision_gpt4o_local)) / df.shape[0]\n",
    ")\n",
    "recall_gpt4o_local_ci = 1.96 * np.sqrt(\n",
    "    (recall_gpt4o_local * (1 - recall_gpt4o_local)) / df.shape[0]\n",
    ")\n",
    "f1_score_gpt4o_local_ci = 1.96 * np.sqrt(\n",
    "    (f1_score_gpt4o_local * (1 - f1_score_gpt4o_local)) / df.shape[0]\n",
    ")\n",
    "\n",
    "print(\n",
    "    f\"Accuracy: {accuracy_gpt4o_local:.2f} ({accuracy_gpt4o_local-accuracy_gpt4o_local_ci:.2f} - {accuracy_gpt4o_local+accuracy_gpt4o_local_ci:.2f})\"\n",
    ")\n",
    "print(\n",
    "    f\"Precision: {precision_gpt4o_local:.2f} ({precision_gpt4o_local-precision_gpt4o_local_ci:.2f} - {precision_gpt4o_local+precision_gpt4o_local_ci:.2f})\"\n",
    ")\n",
    "print(\n",
    "    f\"Recall: {recall_gpt4o_local:.2f} ({recall_gpt4o_local-recall_gpt4o_local_ci:.2f} - {recall_gpt4o_local+recall_gpt4o_local_ci:.2f})\"\n",
    ")\n",
    "print(\n",
    "    f\"F1 score: {f1_score_gpt4o_local:.2f} ({f1_score_gpt4o_local-f1_score_gpt4o_local_ci:.2f} - {f1_score_gpt4o_local+f1_score_gpt4o_local_ci:.2f})\"\n",
    ")"
   ]
  },
  {
   "cell_type": "code",
   "execution_count": 13,
   "metadata": {},
   "outputs": [
    {
     "data": {
      "image/png": "[encoded data removed]",
      "text/plain": [
       "<Figure size 500x500 with 1 Axes>"
      ]
     },
     "metadata": {},
     "output_type": "display_data"
    }
   ],
   "source": [
    "# Create plot of predicted and actual values for LOCAL\n",
    "fig = plt.figure(figsize=(5, 5))\n",
    "\n",
    "# Create labels with counts and percentages\n",
    "labels_gpt4o_local = cm_gpt4o_local.values.astype(str)\n",
    "labels_gpt4o_local[0, 0] = f\"{cm_gpt4o_local.values[0,0]} ({100 * tn_gpt4o_local/df.shape[0]:.1f}%)\"\n",
    "labels_gpt4o_local[0, 1] = f\"{cm_gpt4o_local.values[0,1]} ({100 * fp_gpt4o_local/df.shape[0]:.1f}%)\"\n",
    "labels_gpt4o_local[1, 0] = f\"{cm_gpt4o_local.values[1,0]} ({100 * fn_gpt4o_local/df.shape[0]:.1f}%)\"\n",
    "labels_gpt4o_local[1, 1] = f\"{cm_gpt4o_local.values[1,1]} ({100 * tp_gpt4o_local/df.shape[0]:.1f}%)\"\n",
    "\n",
    "sns.heatmap(cm_gpt4o_local, annot=labels_gpt4o_local, fmt=\"\", cmap=\"Blues\")\n",
    "plt.xlabel(\"Predicted\")\n",
    "plt.ylabel(\"Actual\") \n",
    "plt.xticks([0.5, 1.5], [\"No\", \"Yes\"])\n",
    "plt.yticks([0.5, 1.5], [\"No\", \"Yes\"])\n",
    "# Remove the colorbar but keep the width of the heatmap\n",
    "plt.gca().collections[0].colorbar.remove()\n",
    "plt.show()\n",
    "\n",
    "fig.savefig(\"plots/gpt4o_local_confusion.png\", dpi=300, bbox_inches=\"tight\")"
   ]
  },
  {
   "cell_type": "code",
   "execution_count": 14,
   "metadata": {},
   "outputs": [
    {
     "name": "stdout",
     "output_type": "stream",
     "text": [
      "Accuracy: 0.96 (0.95 - 0.98)\n",
      "Precision: 0.98 (0.97 - 0.99)\n",
      "Recall: 0.95 (0.94 - 0.97)\n",
      "F1 score: 0.97 (0.95 - 0.98)\n"
     ]
    }
   ],
   "source": [
    "# Create confusion matrix of predicted and actual values for METASTATIC\n",
    "cm_gpt4o_metastatic = pd.crosstab(df[\"ground_truth_metastatic\"], df[\"gpt4o_metastatic\"])\n",
    "\n",
    "\n",
    "# Calculate true positives, false positives, false negatives, and true negatives for METASTATIC\n",
    "tp_gpt4o_metastatic = cm_gpt4o_metastatic.loc[True, True]\n",
    "fp_gpt4o_metastatic = cm_gpt4o_metastatic.loc[False, True]\n",
    "fn_gpt4o_metastatic = cm_gpt4o_metastatic.loc[True, False]\n",
    "tn_gpt4o_metastatic = cm_gpt4o_metastatic.loc[False, False]\n",
    "\n",
    "# Calculate accuracy, precision, recall, f1 score\n",
    "accuracy_gpt4o_metastatic = (tp_gpt4o_metastatic + tn_gpt4o_metastatic) / (tp_gpt4o_metastatic + tn_gpt4o_metastatic + fp_gpt4o_metastatic + fn_gpt4o_metastatic)\n",
    "precision_gpt4o_metastatic = tp_gpt4o_metastatic / (tp_gpt4o_metastatic + fp_gpt4o_metastatic)\n",
    "recall_gpt4o_metastatic = tp_gpt4o_metastatic / (tp_gpt4o_metastatic + fn_gpt4o_metastatic)\n",
    "f1_score_gpt4o_metastatic = 2 * precision_gpt4o_metastatic * recall_gpt4o_metastatic / (precision_gpt4o_metastatic + recall_gpt4o_metastatic)\n",
    "\n",
    "# Calculate the 95% confidence interval for the accuracy, precision, recall, and f1 score\n",
    "accuracy_gpt4o_metastatic_ci = 1.96 * np.sqrt((accuracy_gpt4o_metastatic * (1 - accuracy_gpt4o_metastatic)) / df.shape[0])\n",
    "precision_gpt4o_metastatic_ci = 1.96 * np.sqrt((precision_gpt4o_metastatic * (1 - precision_gpt4o_metastatic)) / df.shape[0])\n",
    "recall_gpt4o_metastatic_ci = 1.96 * np.sqrt((recall_gpt4o_metastatic * (1 - recall_gpt4o_metastatic)) / df.shape[0])\n",
    "f1_score_gpt4o_metastatic_ci = 1.96 * np.sqrt((f1_score_gpt4o_metastatic * (1 - f1_score_gpt4o_metastatic)) / df.shape[0])\n",
    "\n",
    "print(f\"Accuracy: {accuracy_gpt4o_metastatic:.2f} ({accuracy_gpt4o_metastatic-accuracy_gpt4o_metastatic_ci:.2f} - {accuracy_gpt4o_metastatic+accuracy_gpt4o_metastatic_ci:.2f})\")\n",
    "print(f\"Precision: {precision_gpt4o_metastatic:.2f} ({precision_gpt4o_metastatic-precision_gpt4o_metastatic_ci:.2f} - {precision_gpt4o_metastatic+precision_gpt4o_metastatic_ci:.2f})\")\n",
    "print(f\"Recall: {recall_gpt4o_metastatic:.2f} ({recall_gpt4o_metastatic-recall_gpt4o_metastatic_ci:.2f} - {recall_gpt4o_metastatic+recall_gpt4o_metastatic_ci:.2f})\")\n",
    "print(f\"F1 score: {f1_score_gpt4o_metastatic:.2f} ({f1_score_gpt4o_metastatic-f1_score_gpt4o_metastatic_ci:.2f} - {f1_score_gpt4o_metastatic+f1_score_gpt4o_metastatic_ci:.2f})\")"
   ]
  },
  {
   "cell_type": "code",
   "execution_count": 15,
   "metadata": {},
   "outputs": [
    {
     "data": {
      "image/png": "[encoded data removed]",
      "text/plain": [
       "<Figure size 500x500 with 1 Axes>"
      ]
     },
     "metadata": {},
     "output_type": "display_data"
    }
   ],
   "source": [
    "# Create plot of predicted and actual values for METASTATIC\n",
    "fig = plt.figure(figsize=(5, 5))\n",
    "\n",
    "# Create annotation labels with counts and percentages\n",
    "labels_gpt4o_metastatic = cm_gpt4o_metastatic.values.astype(str)\n",
    "labels_gpt4o_metastatic[0, 0] = (\n",
    "    f\"{cm_gpt4o_metastatic.values[0,0]} ({100 * tn_gpt4o_metastatic / df.shape[0]:.1f}%)\"\n",
    ")\n",
    "labels_gpt4o_metastatic[0, 1] = (\n",
    "    f\"{cm_gpt4o_metastatic.values[0,1]} ({100 * fp_gpt4o_metastatic/df.shape[0]:.1f}%)\"\n",
    ")\n",
    "labels_gpt4o_metastatic[1, 0] = (\n",
    "    f\"{cm_gpt4o_metastatic.values[1,0]} ({100 * fn_gpt4o_metastatic/df.shape[0]:.1f}%)\"\n",
    ")\n",
    "labels_gpt4o_metastatic[1, 1] = (\n",
    "    f\"{cm_gpt4o_metastatic.values[1,1]} ({100 * tp_gpt4o_metastatic/df.shape[0]:.1f}%)\"\n",
    ")\n",
    "\n",
    "sns.heatmap(cm_gpt4o_metastatic, annot=labels_gpt4o_metastatic, fmt=\"\", cmap=\"Blues\")\n",
    "plt.xlabel(\"Predicted\")\n",
    "plt.ylabel(\"Actual\")\n",
    "plt.xticks([0.5, 1.5], [\"No\", \"Yes\"])\n",
    "plt.yticks([0.5, 1.5], [\"No\", \"Yes\"])\n",
    "# Remove the colorbar but keep the width of the heatmap\n",
    "plt.gca().collections[0].colorbar.remove()\n",
    "plt.show()\n",
    "\n",
    "fig.savefig(\"plots/gpt4o_metastatic_confusion.png\", dpi=300, bbox_inches=\"tight\")"
   ]
  },
  {
   "cell_type": "code",
   "execution_count": 16,
   "metadata": {},
   "outputs": [
    {
     "name": "stdout",
     "output_type": "stream",
     "text": [
      "family\n",
      "All                     0.86\n",
      "Breast/Gynecological    0.84\n",
      "Gastrointestinal        0.78\n",
      "Head & neck             0.90\n",
      "Lung/Thoracic           0.59\n",
      "Neuro                   0.57\n",
      "Skin/Soft tissue        0.71\n",
      "Urogenital              0.89\n",
      "dtype: float64\n"
     ]
    }
   ],
   "source": [
    "# Calculate the F1 score for local per family\n",
    "\n",
    "precision_gpt4o_local_per_family = df.groupby(\"family\").apply(lambda x: np.sum((x[\"gpt4o_local\"] == True) & (x[\"ground_truth_local\"] == True))/ np.sum(x[\"gpt4o_local\"] == True))\n",
    "recall_gpt4o_local_per_family = df.groupby(\"family\").apply(lambda x: np.sum((x[\"gpt4o_local\"] == True) & (x[\"ground_truth_local\"] == True))/ np.sum(x[\"ground_truth_local\"] == True))\n",
    "f1_score_gpt4o_local_per_family = 2 * precision_gpt4o_local_per_family * recall_gpt4o_local_per_family / (precision_gpt4o_local_per_family + recall_gpt4o_local_per_family)\n",
    "f1_score_gpt4o_local_per_family = f1_score_gpt4o_local_per_family.round(2)\n",
    "\n",
    "print(f1_score_gpt4o_local_per_family)\n"
   ]
  },
  {
   "cell_type": "code",
   "execution_count": 17,
   "metadata": {},
   "outputs": [
    {
     "name": "stdout",
     "output_type": "stream",
     "text": [
      "family\n",
      "All                     0.92\n",
      "Breast/Gynecological    0.94\n",
      "Gastrointestinal        1.00\n",
      "Head & neck             1.00\n",
      "Lung/Thoracic           0.99\n",
      "Neuro                   0.80\n",
      "Skin/Soft tissue        0.96\n",
      "Urogenital              0.99\n",
      "dtype: float64\n"
     ]
    }
   ],
   "source": [
    "# Calculate the F1 score for metastatic per family\n",
    "precision_gpt4o_metastatic_per_family = df.groupby(\"family\").apply(lambda x: np.sum((x[\"gpt4o_metastatic\"] == True) & (x[\"ground_truth_metastatic\"] == True))/ np.sum(x[\"gpt4o_metastatic\"] == True))\n",
    "recall_gpt4o_metastatic_per_family = df.groupby(\"family\").apply(lambda x: np.sum((x[\"gpt4o_metastatic\"] == True) & (x[\"ground_truth_metastatic\"] == True))/ np.sum(x[\"ground_truth_metastatic\"] == True))\n",
    "f1_score_gpt4o_metastatic_per_family = 2 * precision_gpt4o_metastatic_per_family * recall_gpt4o_metastatic_per_family / (precision_gpt4o_metastatic_per_family + recall_gpt4o_metastatic_per_family)\n",
    "f1_score_gpt4o_metastatic_per_family = f1_score_gpt4o_metastatic_per_family.round(2)\n",
    "\n",
    "print(f1_score_gpt4o_metastatic_per_family)"
   ]
  },
  {
   "cell_type": "markdown",
   "metadata": {},
   "source": [
    "## o1\n"
   ]
  },
  {
   "cell_type": "code",
   "execution_count": 60,
   "metadata": {},
   "outputs": [
    {
     "name": "stdout",
     "output_type": "stream",
     "text": [
      "Accuracy: 0.88 (0.86 - 0.91)\n",
      "Precision: 0.99 (0.98 - 1.00)\n",
      "Recall: 0.85 (0.82 - 0.88)\n",
      "F1 score: 0.91 (0.89 - 0.94)\n"
     ]
    }
   ],
   "source": [
    "# Create confusion matrix of predicted and actual values for LOCAL\n",
    "cm_o1_local = pd.crosstab(df[\"ground_truth_local\"], df[\"o1_local\"])\n",
    "\n",
    "#  Calculate true positives, false positives, false negatives, and true negatives\n",
    "tp_o1_local = cm_o1_local.loc[True, True]\n",
    "fp_o1_local = cm_o1_local.loc[False, True]\n",
    "fn_o1_local = cm_o1_local.loc[True, False]\n",
    "tn_o1_local = cm_o1_local.loc[False, False]\n",
    "\n",
    "# Calculate accuracy, precision, recall, f1 score\n",
    "accuracy_o1_local = (tp_o1_local + tn_o1_local) / (tp_o1_local + tn_o1_local + fp_o1_local + fn_o1_local)\n",
    "precision_o1_local = tp_o1_local / (tp_o1_local + fp_o1_local)\n",
    "recall_o1_local = tp_o1_local / (tp_o1_local + fn_o1_local)\n",
    "f1_score_o1_local = 2 * precision_o1_local * recall_o1_local / (precision_o1_local + recall_o1_local)\n",
    "\n",
    "# Calculate the 95% confidence interval for the accuracy, precision, recall, and f1 score\n",
    "accuracy_o1_local_ci = 1.96 * np.sqrt((accuracy_o1_local * (1 - accuracy_o1_local)) / df[\"o1_local\"].notna().sum())\n",
    "precision_o1_local_ci = 1.96 * np.sqrt((precision_o1_local * (1 - precision_o1_local)) / df[\"o1_local\"].notna().sum())\n",
    "recall_o1_local_ci = 1.96 * np.sqrt((recall_o1_local * (1 - recall_o1_local)) / df[\"o1_local\"].notna().sum())\n",
    "f1_score_o1_local_ci = 1.96 * np.sqrt((f1_score_o1_local * (1 - f1_score_o1_local)) / df[\"o1_local\"].notna().sum())\n",
    "\n",
    "print(f\"Accuracy: {accuracy_o1_local:.2f} ({accuracy_o1_local-accuracy_o1_local_ci:.2f} - {accuracy_o1_local+accuracy_o1_local_ci:.2f})\")\n",
    "print(f\"Precision: {precision_o1_local:.2f} ({precision_o1_local-precision_o1_local_ci:.2f} - {precision_o1_local+precision_o1_local_ci:.2f})\")\n",
    "print(f\"Recall: {recall_o1_local:.2f} ({recall_o1_local-recall_o1_local_ci:.2f} - {recall_o1_local+recall_o1_local_ci:.2f})\")\n",
    "print(f\"F1 score: {f1_score_o1_local:.2f} ({f1_score_o1_local-f1_score_o1_local_ci:.2f} - {f1_score_o1_local+f1_score_o1_local_ci:.2f})\")\n"
   ]
  },
  {
   "cell_type": "code",
   "execution_count": 59,
   "metadata": {},
   "outputs": [
    {
     "data": {
      "image/png": "[encoded data removed]",
      "text/plain": [
       "<Figure size 500x500 with 1 Axes>"
      ]
     },
     "metadata": {},
     "output_type": "display_data"
    }
   ],
   "source": [
    "# Create plot of predicted and actual values for LOCAL\n",
    "fig = plt.figure(figsize=(5, 5))\n",
    "\n",
    "# Create labels with counts and percentages\n",
    "labels_o1_local = cm_o1_local.values.astype(str)\n",
    "labels_o1_local[0, 0] = f\"{cm_o1_local.values[0,0]} ({100 * tn_o1_local/df['o1_local'].notna().sum():.1f}%)\"\n",
    "labels_o1_local[0, 1] = f\"{cm_o1_local.values[0,1]} ({100 * fp_o1_local/df['o1_local'].notna().sum():.1f}%)\"\n",
    "labels_o1_local[1, 0] = f\"{cm_o1_local.values[1,0]} ({100 * fn_o1_local/df['o1_local'].notna().sum():.1f}%)\"\n",
    "labels_o1_local[1, 1] = f\"{cm_o1_local.values[1,1]} ({100 * tp_o1_local/df['o1_local'].notna().sum():.1f}%)\"\n",
    "\n",
    "sns.heatmap(cm_o1_local, annot=labels_o1_local, fmt=\"\", cmap=\"Blues\")\n",
    "plt.xlabel(\"Predicted\")\n",
    "plt.ylabel(\"Actual\")\n",
    "plt.xticks([0.5, 1.5], [\"No\", \"Yes\"])\n",
    "plt.yticks([0.5, 1.5], [\"No\", \"Yes\"])\n",
    "# Remove the colorbar but keep the width of the heatmap\n",
    "plt.gca().collections[0].colorbar.remove()\n",
    "plt.show()\n",
    "\n",
    "fig.savefig(\"plots/o1_local_confusion.png\", dpi=300, bbox_inches=\"tight\")"
   ]
  },
  {
   "cell_type": "code",
   "execution_count": 61,
   "metadata": {},
   "outputs": [
    {
     "name": "stdout",
     "output_type": "stream",
     "text": [
      "Accuracy: 0.99 (0.98 - 1.00)\n",
      "Precision: 0.99 (0.98 - 1.00)\n",
      "Recall: 0.99 (0.99 - 1.00)\n",
      "F1 score: 0.99 (0.99 - 1.00)\n"
     ]
    }
   ],
   "source": [
    "# Create confusion matrix of predicted and actual values for METASTATIC\n",
    "cm_o1_metastatic = pd.crosstab(df[\"ground_truth_metastatic\"], df[\"o1_metastatic\"])\n",
    "\n",
    "# Calculate true positives, false positives, false negatives, and true negatives\n",
    "tp_o1_metastatic = cm_o1_metastatic.loc[True, True]\n",
    "fp_o1_metastatic = cm_o1_metastatic.loc[False, True]\n",
    "fn_o1_metastatic = cm_o1_metastatic.loc[True, False]\n",
    "tn_o1_metastatic = cm_o1_metastatic.loc[False, False]\n",
    "\n",
    "# Calculate accuracy, precision, recall, f1 score\n",
    "accuracy_o1_metastatic = (tp_o1_metastatic + tn_o1_metastatic) / (\n",
    "    tp_o1_metastatic + tn_o1_metastatic + fp_o1_metastatic + fn_o1_metastatic\n",
    ")\n",
    "precision_o1_metastatic = tp_o1_metastatic / (tp_o1_metastatic + fp_o1_metastatic)\n",
    "recall_o1_metastatic = tp_o1_metastatic / (tp_o1_metastatic + fn_o1_metastatic)\n",
    "f1_score_o1_metastatic = (\n",
    "    2\n",
    "    * precision_o1_metastatic\n",
    "    * recall_o1_metastatic\n",
    "    / (precision_o1_metastatic + recall_o1_metastatic)\n",
    ")\n",
    "\n",
    "# Calculate the 95% confidence interval for the accuracy, precision, recall, and f1 score\n",
    "accuracy_o1_metastatic_ci = 1.96 * np.sqrt((accuracy_o1_metastatic * (1 - accuracy_o1_metastatic)) / df[\"o1_metastatic\"].notna().sum())\n",
    "precision_o1_metastatic_ci = 1.96 * np.sqrt((precision_o1_metastatic * (1 - precision_o1_metastatic)) / df[\"o1_metastatic\"].notna().sum())\n",
    "recall_o1_metastatic_ci = 1.96 * np.sqrt((recall_o1_metastatic * (1 - recall_o1_metastatic)) / df[\"o1_metastatic\"].notna().sum())\n",
    "f1_score_o1_metastatic_ci = 1.96 * np.sqrt((f1_score_o1_metastatic * (1 - f1_score_o1_metastatic)) / df[\"o1_metastatic\"].notna().sum())\n",
    "\n",
    "print(f\"Accuracy: {accuracy_o1_metastatic:.2f} ({accuracy_o1_metastatic-accuracy_o1_metastatic_ci:.2f} - {accuracy_o1_metastatic+accuracy_o1_metastatic_ci:.2f})\")\n",
    "print(f\"Precision: {precision_o1_metastatic:.2f} ({precision_o1_metastatic-precision_o1_metastatic_ci:.2f} - {precision_o1_metastatic+precision_o1_metastatic_ci:.2f})\")\n",
    "print(f\"Recall: {recall_o1_metastatic:.2f} ({recall_o1_metastatic-recall_o1_metastatic_ci:.2f} - {recall_o1_metastatic+recall_o1_metastatic_ci:.2f})\")\n",
    "print(f\"F1 score: {f1_score_o1_metastatic:.2f} ({f1_score_o1_metastatic-f1_score_o1_metastatic_ci:.2f} - {f1_score_o1_metastatic+f1_score_o1_metastatic_ci:.2f})\")"
   ]
  },
  {
   "cell_type": "code",
   "execution_count": 62,
   "metadata": {},
   "outputs": [
    {
     "data": {
      "image/png": "[encoded data removed]",
      "text/plain": [
       "<Figure size 500x500 with 1 Axes>"
      ]
     },
     "metadata": {},
     "output_type": "display_data"
    }
   ],
   "source": [
    "# Create plot of predicted and actual values for METASTATIC\n",
    "fig = plt.figure(figsize=(5, 5))\n",
    "\n",
    "# Create labels with counts and percentages\n",
    "labels_o1_metastatic = cm_o1_metastatic.values.astype(str)\n",
    "labels_o1_metastatic[0, 0] = f\"{cm_o1_metastatic.values[0,0]} ({100 * tn_o1_metastatic/df['o1_metastatic'].notna().sum():.1f}%)\"\n",
    "labels_o1_metastatic[0, 1] = f\"{cm_o1_metastatic.values[0,1]} ({100 * fp_o1_metastatic/df['o1_metastatic'].notna().sum():.1f}%)\"\n",
    "labels_o1_metastatic[1, 0] = f\"{cm_o1_metastatic.values[1,0]} ({100 * fn_o1_metastatic/df['o1_metastatic'].notna().sum():.1f}%)\"\n",
    "labels_o1_metastatic[1, 1] = f\"{cm_o1_metastatic.values[1,1]} ({100 * tp_o1_metastatic/df['o1_metastatic'].notna().sum():.1f}%)\"\n",
    "\n",
    "sns.heatmap(cm_o1_metastatic, annot=labels_o1_metastatic, fmt=\"\", cmap=\"Blues\")\n",
    "plt.xlabel(\"Predicted\")\n",
    "plt.ylabel(\"Actual\")\n",
    "plt.xticks([0.5, 1.5], [\"No\", \"Yes\"])\n",
    "plt.yticks([0.5, 1.5], [\"No\", \"Yes\"])\n",
    "# Remove the colorbar but keep the width of the heatmap\n",
    "plt.gca().collections[0].colorbar.remove()\n",
    "plt.show()\n",
    "\n",
    "fig.savefig(\"plots/o1_metastatic_confusion.png\", dpi=300, bbox_inches=\"tight\")"
   ]
  },
  {
   "cell_type": "code",
   "execution_count": 22,
   "metadata": {},
   "outputs": [
    {
     "name": "stdout",
     "output_type": "stream",
     "text": [
      "family\n",
      "All                     0.88\n",
      "Breast/Gynecological    0.95\n",
      "Gastrointestinal        0.85\n",
      "Head & neck             0.90\n",
      "Lung/Thoracic           0.79\n",
      "Neuro                   0.89\n",
      "Skin/Soft tissue        0.94\n",
      "Urogenital              0.95\n",
      "dtype: float64\n"
     ]
    }
   ],
   "source": [
    "# Calculate the F1 score for local per family\n",
    "precision_o1_local_per_family = df.groupby(\"family\").apply(lambda x: np.sum((x[\"o1_local\"] == True) & (x[\"ground_truth_local\"] == True))/ np.sum(x[\"o1_local\"] == True))\n",
    "recall_o1_local_per_family = df.groupby(\"family\").apply(lambda x: np.sum((x[\"o1_local\"] == True) & (x[\"ground_truth_local\"] == True))/ np.sum(x[\"ground_truth_local\"] == True))\n",
    "f1_score_o1_local_per_family = 2 * precision_o1_local_per_family * recall_o1_local_per_family / (precision_o1_local_per_family + recall_o1_local_per_family)\n",
    "f1_score_o1_local_per_family = f1_score_o1_local_per_family.round(2)\n",
    "\n",
    "print(f1_score_o1_local_per_family)"
   ]
  },
  {
   "cell_type": "code",
   "execution_count": 23,
   "metadata": {},
   "outputs": [
    {
     "name": "stdout",
     "output_type": "stream",
     "text": [
      "family\n",
      "All                     1.00\n",
      "Breast/Gynecological    0.98\n",
      "Gastrointestinal        0.98\n",
      "Head & neck             0.92\n",
      "Lung/Thoracic           0.99\n",
      "Neuro                   0.91\n",
      "Skin/Soft tissue        1.00\n",
      "Urogenital              0.99\n",
      "dtype: float64\n"
     ]
    }
   ],
   "source": [
    "# Calculate the F1 score for metastatic per family\n",
    "precision_o1_metastatic_per_family = df.groupby(\"family\").apply(lambda x: np.sum((x[\"o1_metastatic\"] == True) & (x[\"ground_truth_metastatic\"] == True))/ np.sum(x[\"o1_metastatic\"] == True))\n",
    "recall_o1_metastatic_per_family = df.groupby(\"family\").apply(lambda x: np.sum((x[\"o1_metastatic\"] == True) & (x[\"ground_truth_metastatic\"] == True))/ np.sum(x[\"ground_truth_metastatic\"] == True))\n",
    "f1_score_o1_metastatic_per_family = 2 * precision_o1_metastatic_per_family * recall_o1_metastatic_per_family / (precision_o1_metastatic_per_family + recall_o1_metastatic_per_family)\n",
    "f1_score_o1_metastatic_per_family = f1_score_o1_metastatic_per_family.round(2)\n",
    "\n",
    "print(f1_score_o1_metastatic_per_family)"
   ]
  },
  {
   "cell_type": "markdown",
   "metadata": {},
   "source": [
    "## Analyse incorrect predictions by o1"
   ]
  },
  {
   "cell_type": "code",
   "execution_count": 24,
   "metadata": {},
   "outputs": [],
   "source": [
    "# Create a dataframe of false positives for o1 local\n",
    "df_fp_o1_local = df[(df[\"o1_local\"] == True) & (df[\"ground_truth_local\"] == False)]\n",
    "\n",
    "# Create a dataframe of false negatives for o1 local\n",
    "df_fn_o1_local = df[(df[\"o1_local\"] == False) & (df[\"ground_truth_local\"] == True)]\n",
    "\n",
    "# Create a dataframe of false positives for o1 metastatic\n",
    "df_fp_o1_metastatic = df[(df[\"o1_metastatic\"] == True) & (df[\"ground_truth_metastatic\"] == False)]\n",
    "\n",
    "# Create a dataframe of false negatives for o1 metastatic\n",
    "df_fn_o1_metastatic = df[(df[\"o1_metastatic\"] == False) & (df[\"ground_truth_metastatic\"] == True)]"
   ]
  },
  {
   "cell_type": "markdown",
   "metadata": {},
   "source": [
    "### False negatives local"
   ]
  },
  {
   "cell_type": "code",
   "execution_count": 25,
   "metadata": {},
   "outputs": [
    {
     "name": "stdout",
     "output_type": "stream",
     "text": [
      "False negatives that contain the string 'recurrent' in their abstract: 17\n",
      "Percentage of false negatives that contain the string 'recurrent' in their abstract: 26.2%\n",
      "False negatives that contain the string 'advanced' in their abstract: 39\n",
      "Percentage of false negatives that contain the string 'advanced' in their abstract: 60.0%\n",
      "False negatives that contain the string 'locally advanced' in their abstract: 0\n",
      "Percentage of false negatives that contain the string 'locally advanced' in their abstract: 0.0%\n"
     ]
    }
   ],
   "source": [
    "# Check how many of the false negative local predictions contain the string \"recurrent\"\n",
    "print(f\"False negatives that contain the string 'recurrent' in their abstract: {df_fn_o1_local[df_fn_o1_local['abstract'].str.contains('recurrent')].shape[0]}\")\n",
    "print(f\"Percentage of false negatives that contain the string 'recurrent' in their abstract: {100 * df_fn_o1_local[df_fn_o1_local['abstract'].str.contains('recurrent')].shape[0] / df_fn_o1_local.shape[0]:.1f}%\")\n",
    "\n",
    "\n",
    "# Check how many of the false negative local predictions contain the string \"advanced\" in their abstract\n",
    "print(\n",
    "    f\"False negatives that contain the string 'advanced' in their abstract: {df_fn_o1_local[df_fn_o1_local['abstract'].str.contains('advanced')].shape[0]}\"\n",
    ")\n",
    "print(\n",
    "    f\"Percentage of false negatives that contain the string 'advanced' in their abstract: {100 * df_fn_o1_local[df_fn_o1_local['abstract'].str.contains('advanced')].shape[0] / df_fn_o1_local.shape[0]:.1f}%\"\n",
    ")\n",
    "\n",
    "# Check how many of the false negative local predictions contain the string \"locally advanced\"\n",
    "print(\n",
    "    f\"False negatives that contain the string 'locally advanced' in their abstract: {df_fn_o1_local[df_fn_o1_local['abstract'].str.contains('locally advanced')].shape[0]}\"\n",
    ")\n",
    "print(\n",
    "    f\"Percentage of false negatives that contain the string 'locally advanced' in their abstract: {100 * df_fn_o1_local[df_fn_o1_local['abstract'].str.contains('locally advanced')].shape[0] / df_fn_o1_local.shape[0]:.1f}%\"\n",
    ")"
   ]
  },
  {
   "cell_type": "markdown",
   "metadata": {},
   "source": []
  },
  {
   "cell_type": "markdown",
   "metadata": {},
   "source": [
    "### False negatives local"
   ]
  },
  {
   "cell_type": "code",
   "execution_count": 26,
   "metadata": {},
   "outputs": [
    {
     "name": "stdout",
     "output_type": "stream",
     "text": [
      "['10.1200/JCO.20.02755', '10.1056/NEJMoa2112187', '10.1016/S1470-2045(10)70112-1', '10.1056/NEJMoa0810699', '10.1056/NEJMoa1611310', '10.1200/JCO.2010.28.0982', '10.1016/S1470-2045(12)70490-4', '10.1056/NEJMoa1910231', '10.1200/JCO.2006.06.0483', '10.1016/S1470-2045(11)70102-4', '10.1200/JCO.22.00332', '10.1016/S1470-2045(22)00603-9', '10.1056/NEJMoa1801946', '10.1200/JCO.2008.17.0530', '10.1200/JCO.2014.55.5789', '10.1016/S1470-2045(16)00106-6', '10.1016/S1470-2045(13)70067-6', '10.1016/S1470-2045(08)70261-4', '10.1200/JCO.2007.13.0856', '10.1200/JCO.2012.46.1764', '10.1200/JCO.2011.36.1709', '10.1056/NEJMoa1713137', '10.1200/JCO.2010.34.3178', '10.1016/S1470-2045(20)30493-9', '10.1200/JCO.23.00971', '10.1200/JCO.2004.10.020', '10.1200/JCO.2009.26.6452', '10.1001/jamaoncol.2022.5999', '10.1200/JCO.2005.03.616', '10.1200/JCO.2008.17.3138', '10.1016/S1470-2045(18)30372-3', '10.1016/S0140-6736(15)01283-0', '10.1200/JCO.2007.12.2614', '10.1200/JCO.2012.45.0494', '10.1200/JCO.2013.53.7746', '10.1016/S1470-2045(13)70453-4', '10.1200/JCO.2012.42.0505', '10.1200/JCO.2012.44.4661', '10.1056/NEJMoa1613493', '10.1016/S0140-6736(16)32517-X', '10.1056/NEJMoa1207506', '10.1001/jamaoncol.2019.4782', '10.1200/JCO.2012.47.4189', '10.1200/JCO.2012.48.4410', '10.1200/JCO.2007.14.5029', '10.1200/JCO.21.01801', '10.1200/JCO.2010.33.6107', '10.1001/jamaoncol.2018.1888', '10.1200/JCO.2007.15.0672', '10.1001/jamaoncol.2018.3039', '10.1056/NEJMoa2004413', '10.1016/S0140-6736(15)00817-X', '10.1001/jamaoncol.2022.5218', '10.1200/JCO.22.02777', '10.1016/S1470-2045(21)00302-8', '10.1016/S1470-2045(20)30307-7', '10.1200/JCO.2006.08.3956', '10.1056/NEJMoa2114663', '10.1056/NEJMoa2035716', '10.1200/JCO.2008.20.5534', '10.1200/JCO.2014.59.9324', '10.1200/JCO.2008.17.8400', '10.1200/JCO.2005.02.028', '10.1016/S1470-2045(19)30515-7', '10.1016/S1470-2045(21)00098-X']\n"
     ]
    }
   ],
   "source": [
    "# Print the dois of the false negatives local\n",
    "print(df_fn_o1_local[\"doi\"].tolist())"
   ]
  },
  {
   "cell_type": "markdown",
   "metadata": {},
   "source": [
    "### False positives local\n"
   ]
  },
  {
   "cell_type": "code",
   "execution_count": 27,
   "metadata": {},
   "outputs": [
    {
     "name": "stdout",
     "output_type": "stream",
     "text": [
      "['10.1056/NEJMoa1506197', '10.1016/S0140-6736(10)60551-X', '10.1016/S0140-6736(12)62186-2', '10.1056/NEJMoa050493', '10.1001/jama.2019.4755']\n"
     ]
    }
   ],
   "source": [
    "# Print the dois of the false positives local\n",
    "print(df_fp_o1_local[\"doi\"].tolist())"
   ]
  },
  {
   "cell_type": "markdown",
   "metadata": {},
   "source": [
    "### False negatives metastatic"
   ]
  },
  {
   "cell_type": "code",
   "execution_count": 28,
   "metadata": {},
   "outputs": [
    {
     "name": "stdout",
     "output_type": "stream",
     "text": [
      "['10.1200/JCO.2005.09.102', '10.1200/JCO.2005.09.050']\n"
     ]
    }
   ],
   "source": [
    "# Print the dois of the false negatives metastatic\n",
    "print(df_fn_o1_metastatic[\"doi\"].tolist())"
   ]
  },
  {
   "cell_type": "markdown",
   "metadata": {},
   "source": [
    "### False positives metastatic"
   ]
  },
  {
   "cell_type": "code",
   "execution_count": 29,
   "metadata": {},
   "outputs": [
    {
     "name": "stdout",
     "output_type": "stream",
     "text": [
      "['10.1200/JCO.2006.06.6027', '10.1200/JCO.2009.23.5150', '10.1200/JCO.21.00703']\n"
     ]
    }
   ],
   "source": [
    "# Print the dois of the false positives metastatic\n",
    "print(df_fp_o1_metastatic[\"doi\"].tolist())\n"
   ]
  },
  {
   "cell_type": "code",
   "execution_count": 30,
   "metadata": {},
   "outputs": [],
   "source": [
    "# Create a new csv that contains only the columns doi and accept\n",
    "df_accepted = df[[\"doi\", \"accept\"]]\n",
    "\n",
    "# Rename the column accept to accept_new\n",
    "df_accepted = df_accepted.rename(columns={\"accept\": \"accept_new\"})\n",
    "\n",
    "# Save the dataframe to a csv file\n",
    "df_accepted.to_csv(\"accepted_new.csv\", index=False)"
   ]
  },
  {
   "cell_type": "markdown",
   "metadata": {},
   "source": [
    "## Analyze verbose not none predictions by o1"
   ]
  },
  {
   "cell_type": "code",
   "execution_count": 54,
   "metadata": {},
   "outputs": [
    {
     "name": "stdout",
     "output_type": "stream",
     "text": [
      "Accuracy: 0.89 (0.87 - 0.92)\n",
      "Precision: 1.00 (1.00 - 1.00)\n",
      "Recall: 0.85 (0.82 - 0.88)\n",
      "F1 score: 0.92 (0.90 - 0.94)\n"
     ]
    }
   ],
   "source": [
    "# Create confusion matrix of predicted and actual values for LOCAL\n",
    "cm_o1_local_verbose = pd.crosstab(df_verbose_not_none[\"ground_truth_local\"], df_verbose_not_none[\"o1_local\"])\n",
    "\n",
    "# Calculate true positives, false positives, false negatives, and true negatives\n",
    "tp_o1_local_verbose = cm_o1_local_verbose.loc[True, True]\n",
    "fp_o1_local_verbose = cm_o1_local_verbose.loc[False, True]\n",
    "fn_o1_local_verbose = cm_o1_local_verbose.loc[True, False]\n",
    "tn_o1_local_verbose = cm_o1_local_verbose.loc[False, False]\n",
    "\n",
    "# Calculate accuracy, precision, recall, f1 score\n",
    "accuracy_o1_local_verbose = (tp_o1_local_verbose + tn_o1_local_verbose) / (tp_o1_local_verbose + tn_o1_local_verbose + fp_o1_local_verbose + fn_o1_local_verbose)\n",
    "precision_o1_local_verbose = tp_o1_local_verbose / (tp_o1_local_verbose + fp_o1_local_verbose)\n",
    "recall_o1_local_verbose = tp_o1_local_verbose / (tp_o1_local_verbose + fn_o1_local_verbose)\n",
    "f1_score_o1_local_verbose = 2 * precision_o1_local_verbose * recall_o1_local_verbose / (precision_o1_local_verbose + recall_o1_local_verbose)\n",
    "\n",
    "# Calculate the 95% confidence interval for the accuracy, precision, recall, and f1 score\n",
    "accuracy_o1_local_verbose_ci = 1.96 * np.sqrt((accuracy_o1_local_verbose * (1 - accuracy_o1_local_verbose)) / df.shape[0])\n",
    "precision_o1_local_verbose_ci = 1.96 * np.sqrt((precision_o1_local_verbose * (1 - precision_o1_local_verbose)) / df.shape[0])\n",
    "recall_o1_local_verbose_ci = 1.96 * np.sqrt((recall_o1_local_verbose * (1 - recall_o1_local_verbose)) / df.shape[0])\n",
    "f1_score_o1_local_verbose_ci = 1.96 * np.sqrt((f1_score_o1_local_verbose * (1 - f1_score_o1_local_verbose)) / df.shape[0])\n",
    "\n",
    "print(f\"Accuracy: {accuracy_o1_local_verbose:.2f} ({accuracy_o1_local_verbose-accuracy_o1_local_verbose_ci:.2f} - {accuracy_o1_local_verbose+accuracy_o1_local_verbose_ci:.2f})\")\n",
    "print(f\"Precision: {precision_o1_local_verbose:.2f} ({precision_o1_local_verbose-precision_o1_local_verbose_ci:.2f} - {precision_o1_local_verbose+precision_o1_local_verbose_ci:.2f})\")\n",
    "print(f\"Recall: {recall_o1_local_verbose:.2f} ({recall_o1_local_verbose-recall_o1_local_verbose_ci:.2f} - {recall_o1_local_verbose+recall_o1_local_verbose_ci:.2f})\")\n",
    "print(f\"F1 score: {f1_score_o1_local_verbose:.2f} ({f1_score_o1_local_verbose-f1_score_o1_local_verbose_ci:.2f} - {f1_score_o1_local_verbose+f1_score_o1_local_verbose_ci:.2f})\")"
   ]
  },
  {
   "cell_type": "code",
   "execution_count": 55,
   "metadata": {},
   "outputs": [
    {
     "data": {
      "image/png": "[encoded data removed]",
      "text/plain": [
       "<Figure size 500x500 with 1 Axes>"
      ]
     },
     "metadata": {},
     "output_type": "display_data"
    }
   ],
   "source": [
    "# Create confusion matrix plot of predicted and actual values for LOCAL\n",
    "fig = plt.figure(figsize=(5, 5))\n",
    "\n",
    "# Create labels with counts and percentages\n",
    "labels_o1_local_verbose = cm_o1_local_verbose.values.astype(str)\n",
    "labels_o1_local_verbose[0, 0] = f\"{cm_o1_local_verbose.values[0,0]} ({100 * tn_o1_local_verbose/df_verbose_not_none.shape[0]:.1f}%)\"\n",
    "labels_o1_local_verbose[0, 1] = f\"{cm_o1_local_verbose.values[0,1]} ({100 * fp_o1_local_verbose/df_verbose_not_none.shape[0]:.1f}%)\"\n",
    "labels_o1_local_verbose[1, 0] = f\"{cm_o1_local_verbose.values[1,0]} ({100 * fn_o1_local_verbose/df_verbose_not_none.shape[0]:.1f}%)\"\n",
    "labels_o1_local_verbose[1, 1] = f\"{cm_o1_local_verbose.values[1,1]} ({100 * tp_o1_local_verbose/df_verbose_not_none.shape[0]:.1f}%)\"\n",
    "\n",
    "sns.heatmap(cm_o1_local_verbose, annot=labels_o1_local_verbose, fmt=\"\", cmap=\"Blues\")\n",
    "plt.xlabel(\"Predicted\")\n",
    "plt.ylabel(\"Actual\")\n",
    "plt.xticks([0.5, 1.5], [\"No\", \"Yes\"])\n",
    "plt.yticks([0.5, 1.5], [\"No\", \"Yes\"])\n",
    "# Remove the colorbar but keep the width of the heatmap\n",
    "plt.gca().collections[0].colorbar.remove()\n",
    "plt.show()\n",
    "\n",
    "fig.savefig(\"plots/o1_local_verbose_confusion.png\", dpi=300, bbox_inches=\"tight\")"
   ]
  },
  {
   "cell_type": "code",
   "execution_count": 56,
   "metadata": {},
   "outputs": [
    {
     "name": "stdout",
     "output_type": "stream",
     "text": [
      "Accuracy: 0.99 (0.96 - 1.01)\n",
      "Precision: 0.98 (0.94 - 1.01)\n",
      "Recall: 1.00 (1.00 - 1.00)\n",
      "F1 score: 0.99 (0.97 - 1.01)\n"
     ]
    }
   ],
   "source": [
    "# Create confusion matrix plot of predicted and actual values for METASTATIC\n",
    "cm_o1_metastatic_verbose = pd.crosstab(df_verbose_not_none[\"ground_truth_metastatic\"], df_verbose_not_none[\"o1_metastatic\"])\n",
    "\n",
    "# Calculate true positives, false positives, false negatives, and true negatives\n",
    "tp_o1_metastatic_verbose = cm_o1_metastatic_verbose.loc[True, True]\n",
    "fp_o1_metastatic_verbose = cm_o1_metastatic_verbose.loc[False, True]\n",
    "fn_o1_metastatic_verbose = cm_o1_metastatic_verbose.loc[True, False]\n",
    "tn_o1_metastatic_verbose = cm_o1_metastatic_verbose.loc[False, False]\n",
    "\n",
    "# Calculate accuracy, precision, recall, f1 score\n",
    "accuracy_o1_metastatic_verbose = (tp_o1_metastatic_verbose + tn_o1_metastatic_verbose) / (tp_o1_metastatic_verbose + tn_o1_metastatic_verbose + fp_o1_metastatic_verbose + fn_o1_metastatic_verbose)\n",
    "precision_o1_metastatic_verbose = tp_o1_metastatic_verbose / (tp_o1_metastatic_verbose + fp_o1_metastatic_verbose)\n",
    "recall_o1_metastatic_verbose = tp_o1_metastatic_verbose / (tp_o1_metastatic_verbose + fn_o1_metastatic_verbose)\n",
    "f1_score_o1_metastatic_verbose = 2 * precision_o1_metastatic_verbose * recall_o1_metastatic_verbose / (precision_o1_metastatic_verbose + recall_o1_metastatic_verbose)\n",
    "\n",
    "# Calculate the 95% confidence interval for the accuracy, precision, recall, and f1 score\n",
    "accuracy_o1_metastatic_verbose_ci = 1.96 * np.sqrt((accuracy_o1_metastatic_verbose * (1 - accuracy_o1_metastatic_verbose)) / df_verbose.shape[0])\n",
    "precision_o1_metastatic_verbose_ci = 1.96 * np.sqrt((precision_o1_metastatic_verbose * (1 - precision_o1_metastatic_verbose)) / df_verbose.shape[0])\n",
    "recall_o1_metastatic_verbose_ci = 1.96 * np.sqrt((recall_o1_metastatic_verbose * (1 - recall_o1_metastatic_verbose)) / df_verbose.shape[0])\n",
    "f1_score_o1_metastatic_verbose_ci = 1.96 * np.sqrt((f1_score_o1_metastatic_verbose * (1 - f1_score_o1_metastatic_verbose)) / df_verbose.shape[0])\n",
    "\n",
    "print(f\"Accuracy: {accuracy_o1_metastatic_verbose:.2f} ({accuracy_o1_metastatic_verbose-accuracy_o1_metastatic_verbose_ci:.2f} - {accuracy_o1_metastatic_verbose+accuracy_o1_metastatic_verbose_ci:.2f})\")\n",
    "print(f\"Precision: {precision_o1_metastatic_verbose:.2f} ({precision_o1_metastatic_verbose-precision_o1_metastatic_verbose_ci:.2f} - {precision_o1_metastatic_verbose+precision_o1_metastatic_verbose_ci:.2f})\")\n",
    "print(f\"Recall: {recall_o1_metastatic_verbose:.2f} ({recall_o1_metastatic_verbose-recall_o1_metastatic_verbose_ci:.2f} - {recall_o1_metastatic_verbose+recall_o1_metastatic_verbose_ci:.2f})\")\n",
    "print(f\"F1 score: {f1_score_o1_metastatic_verbose:.2f} ({f1_score_o1_metastatic_verbose-f1_score_o1_metastatic_verbose_ci:.2f} - {f1_score_o1_metastatic_verbose+f1_score_o1_metastatic_verbose_ci:.2f})\")  "
   ]
  },
  {
   "cell_type": "code",
   "execution_count": 57,
   "metadata": {},
   "outputs": [
    {
     "data": {
      "image/png": "[encoded data removed]",
      "text/plain": [
       "<Figure size 500x500 with 1 Axes>"
      ]
     },
     "metadata": {},
     "output_type": "display_data"
    }
   ],
   "source": [
    "# Create confusion matrix plot of predicted and actual values for METASTATIC\n",
    "fig = plt.figure(figsize=(5, 5))\n",
    "\n",
    "# Create labels with counts and percentages\n",
    "labels_o1_metastatic_verbose = cm_o1_metastatic_verbose.values.astype(str)\n",
    "labels_o1_metastatic_verbose[0, 0] = f\"{cm_o1_metastatic_verbose.values[0,0]} ({100 * tn_o1_metastatic_verbose/df_verbose_not_none.shape[0]:.1f}%)\"\n",
    "labels_o1_metastatic_verbose[0, 1] = f\"{cm_o1_metastatic_verbose.values[0,1]} ({100 * fp_o1_metastatic_verbose/df_verbose_not_none.shape[0]:.1f}%)\"\n",
    "labels_o1_metastatic_verbose[1, 0] = f\"{cm_o1_metastatic_verbose.values[1,0]} ({100 * fn_o1_metastatic_verbose/df_verbose_not_none.shape[0]:.1f}%)\"\n",
    "labels_o1_metastatic_verbose[1, 1] = f\"{cm_o1_metastatic_verbose.values[1,1]} ({100 * tp_o1_metastatic_verbose/df_verbose_not_none.shape[0]:.1f}%)\"\n",
    "\n",
    "sns.heatmap(cm_o1_metastatic_verbose, annot=labels_o1_metastatic_verbose, fmt=\"\", cmap=\"Blues\")\n",
    "plt.xlabel(\"Predicted\")\n",
    "plt.ylabel(\"Actual\")\n",
    "plt.xticks([0.5, 1.5], [\"No\", \"Yes\"])\n",
    "plt.yticks([0.5, 1.5], [\"No\", \"Yes\"])\n",
    "# Remove the colorbar but keep the width of the heatmap\n",
    "plt.gca().collections[0].colorbar.remove()\n",
    "plt.show()\n",
    "\n",
    "fig.savefig(\"plots/o1_metastatic_verbose_confusion.png\", dpi=300, bbox_inches=\"tight\")"
   ]
  },
  {
   "cell_type": "code",
   "execution_count": null,
   "metadata": {},
   "outputs": [],
   "source": []
  }
 ],
 "metadata": {
  "kernelspec": {
   "display_name": "llms",
   "language": "python",
   "name": "python3"
  },
  "language_info": {
   "codemirror_mode": {
    "name": "ipython",
    "version": 3
   },
   "file_extension": ".py",
   "mimetype": "text/x-python",
   "name": "python",
   "nbconvert_exporter": "python",
   "pygments_lexer": "ipython3",
   "version": "3.11.5"
  }
 },
 "nbformat": 4,
 "nbformat_minor": 2
}
