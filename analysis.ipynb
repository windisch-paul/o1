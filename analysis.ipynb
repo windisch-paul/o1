{
 "cells": [
  {
   "cell_type": "markdown",
   "metadata": {},
   "source": [
    "# Setup"
   ]
  },
  {
   "cell_type": "markdown",
   "metadata": {},
   "source": [
    "## Imports"
   ]
  },
  {
   "cell_type": "code",
   "execution_count": 1,
   "metadata": {},
   "outputs": [],
   "source": [
    "import pandas as pd\n",
    "import numpy as np\n",
    "import seaborn as sns\n",
    "import matplotlib.pyplot as plt\n",
    "import re\n"
   ]
  },
  {
   "cell_type": "markdown",
   "metadata": {},
   "source": [
    "# Read data"
   ]
  },
  {
   "cell_type": "code",
   "execution_count": 2,
   "metadata": {},
   "outputs": [],
   "source": [
    "df = pd.read_csv(\"metastatic_local_o1.csv\")\n"
   ]
  },
  {
   "cell_type": "markdown",
   "metadata": {},
   "source": [
    "# Preprocessing"
   ]
  },
  {
   "cell_type": "markdown",
   "metadata": {},
   "source": [
    "## Ground truth"
   ]
  },
  {
   "cell_type": "code",
   "execution_count": 3,
   "metadata": {},
   "outputs": [],
   "source": [
    "# Create ground_truth_metastatic and ground_truth_local columns from accept column\n",
    "df[\"ground_truth_metastatic\"] = df[\"accept\"].str.contains(\"METASTATIC\")\n",
    "df[\"ground_truth_local\"] = df[\"accept\"].str.contains(\"LOCAL\")\n"
   ]
  },
  {
   "cell_type": "markdown",
   "metadata": {},
   "source": [
    "## GPT 4o"
   ]
  },
  {
   "cell_type": "code",
   "execution_count": 4,
   "metadata": {},
   "outputs": [],
   "source": [
    "# Create gpt4o_metastatic and gpt4o_local columns from gpt4o_temp100_response_raw column\n",
    "df[[\"gpt4o_metastatic\", \"gpt4o_local\"]] = df[\"gpt4o_temp100_response_raw\"].str.extract(r\"\\[(True|False), (True|False)\\]\")\n",
    "# Convert strings to boolean values\n",
    "df[[\"gpt4o_metastatic\", \"gpt4o_local\"]] = df[[\"gpt4o_metastatic\", \"gpt4o_local\"]].apply(lambda x: x.map({\"True\": True, \"False\": False}))\n"
   ]
  },
  {
   "cell_type": "markdown",
   "metadata": {},
   "source": [
    "## o1"
   ]
  },
  {
   "cell_type": "code",
   "execution_count": 5,
   "metadata": {},
   "outputs": [
    {
     "name": "stdout",
     "output_type": "stream",
     "text": [
      "Number of verbose outputs: 84 (14.0%)\n"
     ]
    }
   ],
   "source": [
    "# Identify cells with verbose output\n",
    "df[\"o1_verbose\"] = df[\"o1_temp100_response_raw\"].str.len() > 14\n",
    "\n",
    "# Count the number of verbose outputs\n",
    "verbose_count = df[\"o1_verbose\"].sum()\n",
    "\n",
    "# Calculate the percentage of verbose outputs\n",
    "verbose_percentage = 100 * verbose_count / df.shape[0]\n",
    "print(f\"Number of verbose outputs: {verbose_count} ({verbose_percentage:.1f}%)\")\n"
   ]
  },
  {
   "cell_type": "code",
   "execution_count": 6,
   "metadata": {},
   "outputs": [],
   "source": [
    "# Use regular expressions to extract the boolean values. Create two columns from the extracted values\n",
    "df[[\"o1_metastatic\", \"o1_local\"]] = df[\"o1_temp100_response_raw\"].str.extract(\n",
    "    r\"\\[(True|False), (True|False)\\]\"\n",
    ")\n",
    "\n",
    "# Convert strings to boolean values\n",
    "df[[\"o1_metastatic\", \"o1_local\"]] = df[[\"o1_metastatic\", \"o1_local\"]].apply(\n",
    "    lambda x: x.map({\"True\": True, \"False\": False})\n",
    ")"
   ]
  },
  {
   "cell_type": "code",
   "execution_count": 7,
   "metadata": {},
   "outputs": [
    {
     "data": {
      "text/html": [
       "<div>\n",
       "<style scoped>\n",
       "    .dataframe tbody tr th:only-of-type {\n",
       "        vertical-align: middle;\n",
       "    }\n",
       "\n",
       "    .dataframe tbody tr th {\n",
       "        vertical-align: top;\n",
       "    }\n",
       "\n",
       "    .dataframe thead th {\n",
       "        text-align: right;\n",
       "    }\n",
       "</style>\n",
       "<table border=\"1\" class=\"dataframe\">\n",
       "  <thead>\n",
       "    <tr style=\"text-align: right;\">\n",
       "      <th></th>\n",
       "      <th>doi</th>\n",
       "      <th>date</th>\n",
       "      <th>title</th>\n",
       "      <th>abstract</th>\n",
       "      <th>accept</th>\n",
       "      <th>tumor_type</th>\n",
       "      <th>family</th>\n",
       "      <th>gpt4o_temp100_response_raw</th>\n",
       "      <th>o1_temp100_response_raw</th>\n",
       "      <th>ground_truth_metastatic</th>\n",
       "      <th>ground_truth_local</th>\n",
       "      <th>gpt4o_metastatic</th>\n",
       "      <th>gpt4o_local</th>\n",
       "      <th>o1_verbose</th>\n",
       "      <th>o1_metastatic</th>\n",
       "      <th>o1_local</th>\n",
       "    </tr>\n",
       "  </thead>\n",
       "  <tbody>\n",
       "    <tr>\n",
       "      <th>0</th>\n",
       "      <td>10.1016/S0140-6736(09)61921-8</td>\n",
       "      <td>2/20/10</td>\n",
       "      <td>Interferon alfa-2a versus combination therapy ...</td>\n",
       "      <td>BACKGROUND: In metastatic renal cell carcinoma...</td>\n",
       "      <td>['METASTATIC']</td>\n",
       "      <td>['Renal', 'General metastases']</td>\n",
       "      <td>Urogenital</td>\n",
       "      <td>[True, False]</td>\n",
       "      <td>[True, False]</td>\n",
       "      <td>True</td>\n",
       "      <td>False</td>\n",
       "      <td>True</td>\n",
       "      <td>False</td>\n",
       "      <td>False</td>\n",
       "      <td>True</td>\n",
       "      <td>False</td>\n",
       "    </tr>\n",
       "    <tr>\n",
       "      <th>1</th>\n",
       "      <td>10.1200/JCO.22.00451</td>\n",
       "      <td>12/20/22</td>\n",
       "      <td>Partial Breast Irradiation Versus Whole Breast...</td>\n",
       "      <td>PURPOSE: On the basis of low risk of local rec...</td>\n",
       "      <td>['LOCAL']</td>\n",
       "      <td>['Breast']</td>\n",
       "      <td>Breast/Gynecological</td>\n",
       "      <td>[False, True]</td>\n",
       "      <td>[False, True]</td>\n",
       "      <td>False</td>\n",
       "      <td>True</td>\n",
       "      <td>False</td>\n",
       "      <td>True</td>\n",
       "      <td>False</td>\n",
       "      <td>False</td>\n",
       "      <td>True</td>\n",
       "    </tr>\n",
       "    <tr>\n",
       "      <th>2</th>\n",
       "      <td>10.1001/jamaoncol.2016.4115</td>\n",
       "      <td>2/1/17</td>\n",
       "      <td>Ramucirumab as Second-Line Treatment in Patien...</td>\n",
       "      <td>IMPORTANCE: REACH is the first phase 3 trial t...</td>\n",
       "      <td>['METASTATIC', 'LOCAL']</td>\n",
       "      <td>['Hepatocellular']</td>\n",
       "      <td>Gastrointestinal</td>\n",
       "      <td>[True, True]</td>\n",
       "      <td>[True, True]</td>\n",
       "      <td>True</td>\n",
       "      <td>True</td>\n",
       "      <td>True</td>\n",
       "      <td>True</td>\n",
       "      <td>False</td>\n",
       "      <td>True</td>\n",
       "      <td>True</td>\n",
       "    </tr>\n",
       "    <tr>\n",
       "      <th>3</th>\n",
       "      <td>10.1200/JCO.2006.07.0847</td>\n",
       "      <td>2/20/07</td>\n",
       "      <td>Sequenced compared with simultaneous anthracyc...</td>\n",
       "      <td>PURPOSE: We conducted a phase III randomized s...</td>\n",
       "      <td>['LOCAL']</td>\n",
       "      <td>['Breast']</td>\n",
       "      <td>Breast/Gynecological</td>\n",
       "      <td>[False, True]</td>\n",
       "      <td>[False, True]</td>\n",
       "      <td>False</td>\n",
       "      <td>True</td>\n",
       "      <td>False</td>\n",
       "      <td>True</td>\n",
       "      <td>False</td>\n",
       "      <td>False</td>\n",
       "      <td>True</td>\n",
       "    </tr>\n",
       "    <tr>\n",
       "      <th>4</th>\n",
       "      <td>10.1200/JCO.21.02511</td>\n",
       "      <td>9/20/22</td>\n",
       "      <td>Randomized Phase II Study of Nivolumab With or...</td>\n",
       "      <td>PURPOSE: To evaluate the clinical benefit of n...</td>\n",
       "      <td>['METASTATIC']</td>\n",
       "      <td>['Pancreas', 'General metastases']</td>\n",
       "      <td>Gastrointestinal</td>\n",
       "      <td>[True, False]</td>\n",
       "      <td>[True, False]</td>\n",
       "      <td>True</td>\n",
       "      <td>False</td>\n",
       "      <td>True</td>\n",
       "      <td>False</td>\n",
       "      <td>False</td>\n",
       "      <td>True</td>\n",
       "      <td>False</td>\n",
       "    </tr>\n",
       "  </tbody>\n",
       "</table>\n",
       "</div>"
      ],
      "text/plain": [
       "                             doi      date  \\\n",
       "0  10.1016/S0140-6736(09)61921-8   2/20/10   \n",
       "1           10.1200/JCO.22.00451  12/20/22   \n",
       "2    10.1001/jamaoncol.2016.4115    2/1/17   \n",
       "3       10.1200/JCO.2006.07.0847   2/20/07   \n",
       "4           10.1200/JCO.21.02511   9/20/22   \n",
       "\n",
       "                                               title  \\\n",
       "0  Interferon alfa-2a versus combination therapy ...   \n",
       "1  Partial Breast Irradiation Versus Whole Breast...   \n",
       "2  Ramucirumab as Second-Line Treatment in Patien...   \n",
       "3  Sequenced compared with simultaneous anthracyc...   \n",
       "4  Randomized Phase II Study of Nivolumab With or...   \n",
       "\n",
       "                                            abstract                   accept  \\\n",
       "0  BACKGROUND: In metastatic renal cell carcinoma...           ['METASTATIC']   \n",
       "1  PURPOSE: On the basis of low risk of local rec...                ['LOCAL']   \n",
       "2  IMPORTANCE: REACH is the first phase 3 trial t...  ['METASTATIC', 'LOCAL']   \n",
       "3  PURPOSE: We conducted a phase III randomized s...                ['LOCAL']   \n",
       "4  PURPOSE: To evaluate the clinical benefit of n...           ['METASTATIC']   \n",
       "\n",
       "                           tumor_type                family  \\\n",
       "0     ['Renal', 'General metastases']            Urogenital   \n",
       "1                          ['Breast']  Breast/Gynecological   \n",
       "2                  ['Hepatocellular']      Gastrointestinal   \n",
       "3                          ['Breast']  Breast/Gynecological   \n",
       "4  ['Pancreas', 'General metastases']      Gastrointestinal   \n",
       "\n",
       "  gpt4o_temp100_response_raw o1_temp100_response_raw  ground_truth_metastatic  \\\n",
       "0              [True, False]           [True, False]                     True   \n",
       "1              [False, True]           [False, True]                    False   \n",
       "2               [True, True]            [True, True]                     True   \n",
       "3              [False, True]           [False, True]                    False   \n",
       "4              [True, False]           [True, False]                     True   \n",
       "\n",
       "   ground_truth_local  gpt4o_metastatic  gpt4o_local  o1_verbose  \\\n",
       "0               False              True        False       False   \n",
       "1                True             False         True       False   \n",
       "2                True              True         True       False   \n",
       "3                True             False         True       False   \n",
       "4               False              True        False       False   \n",
       "\n",
       "  o1_metastatic o1_local  \n",
       "0          True    False  \n",
       "1         False     True  \n",
       "2          True     True  \n",
       "3         False     True  \n",
       "4          True    False  "
      ]
     },
     "execution_count": 7,
     "metadata": {},
     "output_type": "execute_result"
    }
   ],
   "source": [
    "df.head()\n"
   ]
  },
  {
   "cell_type": "markdown",
   "metadata": {},
   "source": [
    "# Analysis"
   ]
  },
  {
   "cell_type": "markdown",
   "metadata": {},
   "source": [
    "## Dataset characteristics"
   ]
  },
  {
   "cell_type": "code",
   "execution_count": 8,
   "metadata": {},
   "outputs": [
    {
     "name": "stdout",
     "output_type": "stream",
     "text": [
      "Percentage of trials that allow both metastatic and localized disease: 37.8%\n",
      "Percentage of trials that allow metastatic disease but not localized disease: 21.3%\n",
      "Percentage of trials that allow localized disease but not metastatic disease: 35.8%\n",
      "Percentage of trials that allow neither metastatic nor localized disease: 5.0%\n",
      "Percentage of trials that allow localized disease: 73.7%\n",
      "Percentage of trials that allow metastatic disease: 59.2%\n"
     ]
    }
   ],
   "source": [
    "# Create a crosstab of the ground truth local and metastatic columns\n",
    "cross_tab = pd.crosstab(df[\"ground_truth_local\"], df[\"ground_truth_metastatic\"])\n",
    "\n",
    "# Calculate percentages of respective fields in the data set\n",
    "metastatic_and_local = 100 * cross_tab.loc[True, True] / df.shape[0]\n",
    "metastatic_not_local = 100 * cross_tab.loc[False, True] / df.shape[0]\n",
    "local_not_metastatic = 100 * cross_tab.loc[True, False] / df.shape[0]\n",
    "neither = 100 * cross_tab.loc[False, False] / df.shape[0]\n",
    "local = 100 * (metastatic_and_local + local_not_metastatic) / 100\n",
    "metastatic = 100 * (metastatic_and_local + metastatic_not_local) / 100\n",
    "\n",
    "print(\n",
    "    f\"Percentage of trials that allow both metastatic and localized disease: {metastatic_and_local:.1f}%\"\n",
    ")\n",
    "print(\n",
    "    f\"Percentage of trials that allow metastatic disease but not localized disease: {metastatic_not_local:.1f}%\"\n",
    ")\n",
    "print(\n",
    "    f\"Percentage of trials that allow localized disease but not metastatic disease: {local_not_metastatic:.1f}%\"\n",
    ")\n",
    "print(\n",
    "    f\"Percentage of trials that allow neither metastatic nor localized disease: {neither:.1f}%\"\n",
    ")\n",
    "print(f\"Percentage of trials that allow localized disease: {local:.1f}%\")\n",
    "print(f\"Percentage of trials that allow metastatic disease: {metastatic:.1f}%\")"
   ]
  },
  {
   "cell_type": "code",
   "execution_count": 9,
   "metadata": {},
   "outputs": [
    {
     "data": {
      "image/png": "[encoded data removed]",
      "text/plain": [
       "<Figure size 500x500 with 1 Axes>"
      ]
     },
     "metadata": {},
     "output_type": "display_data"
    }
   ],
   "source": [
    "# Visualize the distribution of local and metastatic in the data set\n",
    "fig = plt.figure(figsize=(5, 5))\n",
    "\n",
    "# Create annotation labels with counts and percentages\n",
    "labels = cross_tab.values.astype(str)\n",
    "labels[0,0] = f\"{cross_tab.values[0,0]} ({neither:.1f}%)\"\n",
    "labels[0,1] = f\"{cross_tab.values[0,1]} ({metastatic_not_local:.1f}%)\" \n",
    "labels[1,0] = f\"{cross_tab.values[1,0]} ({local_not_metastatic:.1f}%)\"\n",
    "labels[1,1] = f\"{cross_tab.values[1,1]} ({metastatic_and_local:.1f}%)\"\n",
    "\n",
    "sns.heatmap(cross_tab, annot=labels, cmap=\"Blues\", fmt=\"\")\n",
    "plt.xlabel(\"Metastatic disease allowed\")\n",
    "plt.ylabel(\"Localized disease allowed\")\n",
    "plt.xticks([0.5, 1.5], [\"No\", \"Yes\"])\n",
    "plt.yticks([0.5, 1.5], [\"No\", \"Yes\"])\n",
    "# Remove the colorbar but keep the width of the heatmap\n",
    "plt.gca().collections[0].colorbar.remove()\n",
    "plt.show()\n",
    "fig.savefig(\"plots/characteristics.png\", dpi=300, bbox_inches=\"tight\")"
   ]
  },
  {
   "cell_type": "code",
   "execution_count": 10,
   "metadata": {},
   "outputs": [
    {
     "data": {
      "image/png": "[encoded data removed]",
      "text/plain": [
       "<Figure size 500x500 with 1 Axes>"
      ]
     },
     "metadata": {},
     "output_type": "display_data"
    }
   ],
   "source": [
    "# Create a pie chart of the distribution of tumor family in the data set using seaborn\n",
    "fig = plt.figure(figsize=(5, 5))\n",
    "sns.set_palette(\"Blues\")\n",
    "df[\"family\"].value_counts().plot.pie(autopct=\"%1.1f%%\")\n",
    "plt.ylabel(\"\")\n",
    "plt.show()\n",
    "\n",
    "fig.savefig(\"plots/family_distribution.png\", dpi=300, bbox_inches=\"tight\")"
   ]
  },
  {
   "cell_type": "markdown",
   "metadata": {},
   "source": [
    "## Analyze the performance of the models"
   ]
  },
  {
   "cell_type": "markdown",
   "metadata": {},
   "source": [
    "## GPT-4o"
   ]
  },
  {
   "cell_type": "code",
   "execution_count": 11,
   "metadata": {},
   "outputs": [
    {
     "name": "stdout",
     "output_type": "stream",
     "text": [
      "Accuracy: 0.74 (0.71 - 0.78)\n",
      "Precision: 0.96 (0.95 - 0.98)\n",
      "Recall: 0.68 (0.64 - 0.71)\n",
      "F1 score: 0.80 (0.76 - 0.83)\n"
     ]
    }
   ],
   "source": [
    "# Create confusion matrix of predicted and actual values for LOCAL\n",
    "cm_gpt4o_local = pd.crosstab(df[\"ground_truth_local\"], df[\"gpt4o_local\"])\n",
    "\n",
    "# Calculate true positives, false positives, false negatives, and true negatives\n",
    "tp_gpt4o_local = cm_gpt4o_local.loc[True, True]\n",
    "fp_gpt4o_local = cm_gpt4o_local.loc[False, True]\n",
    "fn_gpt4o_local = cm_gpt4o_local.loc[True, False]\n",
    "tn_gpt4o_local = cm_gpt4o_local.loc[False, False]\n",
    "\n",
    "# Calculate accuracy, precision, recall, f1 score\n",
    "accuracy_gpt4o_local = (tp_gpt4o_local + tn_gpt4o_local) / (\n",
    "    tp_gpt4o_local + tn_gpt4o_local + fp_gpt4o_local + fn_gpt4o_local\n",
    ")\n",
    "precision_gpt4o_local = tp_gpt4o_local / (tp_gpt4o_local + fp_gpt4o_local)\n",
    "recall_gpt4o_local = tp_gpt4o_local / (tp_gpt4o_local + fn_gpt4o_local)\n",
    "f1_score_gpt4o_local = (\n",
    "    2\n",
    "    * precision_gpt4o_local\n",
    "    * recall_gpt4o_local\n",
    "    / (precision_gpt4o_local + recall_gpt4o_local)\n",
    ")\n",
    "\n",
    "# Calucalate the 95% confidence interval for the accuracy, precision, recall, and f1 score\n",
    "accuracy_gpt4o_local_ci = 1.96 * np.sqrt(\n",
    "    (accuracy_gpt4o_local * (1 - accuracy_gpt4o_local)) / df.shape[0]\n",
    ")\n",
    "precision_gpt4o_local_ci = 1.96 * np.sqrt(\n",
    "    (precision_gpt4o_local * (1 - precision_gpt4o_local)) / df.shape[0]\n",
    ")\n",
    "recall_gpt4o_local_ci = 1.96 * np.sqrt(\n",
    "    (recall_gpt4o_local * (1 - recall_gpt4o_local)) / df.shape[0]\n",
    ")\n",
    "f1_score_gpt4o_local_ci = 1.96 * np.sqrt(\n",
    "    (f1_score_gpt4o_local * (1 - f1_score_gpt4o_local)) / df.shape[0]\n",
    ")\n",
    "\n",
    "print(\n",
    "    f\"Accuracy: {accuracy_gpt4o_local:.2f} ({accuracy_gpt4o_local-accuracy_gpt4o_local_ci:.2f} - {accuracy_gpt4o_local+accuracy_gpt4o_local_ci:.2f})\"\n",
    ")\n",
    "print(\n",
    "    f\"Precision: {precision_gpt4o_local:.2f} ({precision_gpt4o_local-precision_gpt4o_local_ci:.2f} - {precision_gpt4o_local+precision_gpt4o_local_ci:.2f})\"\n",
    ")\n",
    "print(\n",
    "    f\"Recall: {recall_gpt4o_local:.2f} ({recall_gpt4o_local-recall_gpt4o_local_ci:.2f} - {recall_gpt4o_local+recall_gpt4o_local_ci:.2f})\"\n",
    ")\n",
    "print(\n",
    "    f\"F1 score: {f1_score_gpt4o_local:.2f} ({f1_score_gpt4o_local-f1_score_gpt4o_local_ci:.2f} - {f1_score_gpt4o_local+f1_score_gpt4o_local_ci:.2f})\"\n",
    ")"
   ]
  },
  {
   "cell_type": "code",
   "execution_count": 12,
   "metadata": {},
   "outputs": [
    {
     "data": {
      "image/png": "[encoded data removed]",
      "text/plain": [
       "<Figure size 500x500 with 1 Axes>"
      ]
     },
     "metadata": {},
     "output_type": "display_data"
    }
   ],
   "source": [
    "# Create confusion matrix of predicted and actual values for LOCAL\n",
    "fig = plt.figure(figsize=(5, 5))\n",
    "\n",
    "# Create labels with counts and percentages\n",
    "labels_gpt4o_local = cm_gpt4o_local.values.astype(str)\n",
    "labels_gpt4o_local[0, 0] = f\"{cm_gpt4o_local.values[0,0]} ({100 * tn_gpt4o_local/df.shape[0]:.1f}%)\"\n",
    "labels_gpt4o_local[0, 1] = f\"{cm_gpt4o_local.values[0,1]} ({100 * fp_gpt4o_local/df.shape[0]:.1f}%)\"\n",
    "labels_gpt4o_local[1, 0] = f\"{cm_gpt4o_local.values[1,0]} ({100 * fn_gpt4o_local/df.shape[0]:.1f}%)\"\n",
    "labels_gpt4o_local[1, 1] = f\"{cm_gpt4o_local.values[1,1]} ({100 * tp_gpt4o_local/df.shape[0]:.1f}%)\"\n",
    "\n",
    "sns.heatmap(cm_gpt4o_local, annot=labels_gpt4o_local, fmt=\"\", cmap=\"Blues\")\n",
    "plt.xlabel(\"Predicted\")\n",
    "plt.ylabel(\"Actual\") \n",
    "plt.xticks([0.5, 1.5], [\"No\", \"Yes\"])\n",
    "plt.yticks([0.5, 1.5], [\"No\", \"Yes\"])\n",
    "# Remove the colorbar but keep the width of the heatmap\n",
    "plt.gca().collections[0].colorbar.remove()\n",
    "plt.show()\n",
    "\n",
    "fig.savefig(\"plots/gpt4o_local_confusion.png\", dpi=300, bbox_inches=\"tight\")"
   ]
  },
  {
   "cell_type": "code",
   "execution_count": 13,
   "metadata": {},
   "outputs": [
    {
     "name": "stdout",
     "output_type": "stream",
     "text": [
      "Accuracy: 0.96 (0.95 - 0.98)\n",
      "Precision: 0.98 (0.97 - 0.99)\n",
      "Recall: 0.95 (0.94 - 0.97)\n",
      "F1 score: 0.97 (0.95 - 0.98)\n"
     ]
    }
   ],
   "source": [
    "# Create confusion matrix of predicted and actual values for METASTATIC\n",
    "cm_gpt4o_metastatic = pd.crosstab(df[\"ground_truth_metastatic\"], df[\"gpt4o_metastatic\"])\n",
    "\n",
    "\n",
    "# Calculate true positives, false positives, false negatives, and true negatives for METASTATIC\n",
    "tp_gpt4o_metastatic = cm_gpt4o_metastatic.loc[True, True]\n",
    "fp_gpt4o_metastatic = cm_gpt4o_metastatic.loc[False, True]\n",
    "fn_gpt4o_metastatic = cm_gpt4o_metastatic.loc[True, False]\n",
    "tn_gpt4o_metastatic = cm_gpt4o_metastatic.loc[False, False]\n",
    "\n",
    "# Calculate accuracy, precision, recall, f1 score\n",
    "accuracy_gpt4o_metastatic = (tp_gpt4o_metastatic + tn_gpt4o_metastatic) / (tp_gpt4o_metastatic + tn_gpt4o_metastatic + fp_gpt4o_metastatic + fn_gpt4o_metastatic)\n",
    "precision_gpt4o_metastatic = tp_gpt4o_metastatic / (tp_gpt4o_metastatic + fp_gpt4o_metastatic)\n",
    "recall_gpt4o_metastatic = tp_gpt4o_metastatic / (tp_gpt4o_metastatic + fn_gpt4o_metastatic)\n",
    "f1_score_gpt4o_metastatic = 2 * precision_gpt4o_metastatic * recall_gpt4o_metastatic / (precision_gpt4o_metastatic + recall_gpt4o_metastatic)\n",
    "\n",
    "# Calculate the 95% confidence interval for the accuracy, precision, recall, and f1 score\n",
    "accuracy_gpt4o_metastatic_ci = 1.96 * np.sqrt((accuracy_gpt4o_metastatic * (1 - accuracy_gpt4o_metastatic)) / df.shape[0])\n",
    "precision_gpt4o_metastatic_ci = 1.96 * np.sqrt((precision_gpt4o_metastatic * (1 - precision_gpt4o_metastatic)) / df.shape[0])\n",
    "recall_gpt4o_metastatic_ci = 1.96 * np.sqrt((recall_gpt4o_metastatic * (1 - recall_gpt4o_metastatic)) / df.shape[0])\n",
    "f1_score_gpt4o_metastatic_ci = 1.96 * np.sqrt((f1_score_gpt4o_metastatic * (1 - f1_score_gpt4o_metastatic)) / df.shape[0])\n",
    "\n",
    "print(f\"Accuracy: {accuracy_gpt4o_metastatic:.2f} ({accuracy_gpt4o_metastatic-accuracy_gpt4o_metastatic_ci:.2f} - {accuracy_gpt4o_metastatic+accuracy_gpt4o_metastatic_ci:.2f})\")\n",
    "print(f\"Precision: {precision_gpt4o_metastatic:.2f} ({precision_gpt4o_metastatic-precision_gpt4o_metastatic_ci:.2f} - {precision_gpt4o_metastatic+precision_gpt4o_metastatic_ci:.2f})\")\n",
    "print(f\"Recall: {recall_gpt4o_metastatic:.2f} ({recall_gpt4o_metastatic-recall_gpt4o_metastatic_ci:.2f} - {recall_gpt4o_metastatic+recall_gpt4o_metastatic_ci:.2f})\")\n",
    "print(f\"F1 score: {f1_score_gpt4o_metastatic:.2f} ({f1_score_gpt4o_metastatic-f1_score_gpt4o_metastatic_ci:.2f} - {f1_score_gpt4o_metastatic+f1_score_gpt4o_metastatic_ci:.2f})\")"
   ]
  },
  {
   "cell_type": "code",
   "execution_count": 14,
   "metadata": {},
   "outputs": [
    {
     "data": {
      "image/png": "[encoded data removed]",
      "text/plain": [
       "<Figure size 500x500 with 1 Axes>"
      ]
     },
     "metadata": {},
     "output_type": "display_data"
    }
   ],
   "source": [
    "# Create confusion matrix of predicted and actual values for METASTATIC\n",
    "fig = plt.figure(figsize=(5, 5))\n",
    "\n",
    "# Create annotation labels with counts and percentages\n",
    "labels_gpt4o_metastatic = cm_gpt4o_metastatic.values.astype(str)\n",
    "labels_gpt4o_metastatic[0, 0] = (\n",
    "    f\"{cm_gpt4o_metastatic.values[0,0]} ({100 * tn_gpt4o_metastatic / df.shape[0]:.1f}%)\"\n",
    ")\n",
    "labels_gpt4o_metastatic[0, 1] = (\n",
    "    f\"{cm_gpt4o_metastatic.values[0,1]} ({100 * fp_gpt4o_metastatic/df.shape[0]:.1f}%)\"\n",
    ")\n",
    "labels_gpt4o_metastatic[1, 0] = (\n",
    "    f\"{cm_gpt4o_metastatic.values[1,0]} ({100 * fn_gpt4o_metastatic/df.shape[0]:.1f}%)\"\n",
    ")\n",
    "labels_gpt4o_metastatic[1, 1] = (\n",
    "    f\"{cm_gpt4o_metastatic.values[1,1]} ({100 * tp_gpt4o_metastatic/df.shape[0]:.1f}%)\"\n",
    ")\n",
    "\n",
    "sns.heatmap(cm_gpt4o_metastatic, annot=labels_gpt4o_metastatic, fmt=\"\", cmap=\"Blues\")\n",
    "plt.xlabel(\"Predicted\")\n",
    "plt.ylabel(\"Actual\")\n",
    "plt.xticks([0.5, 1.5], [\"No\", \"Yes\"])\n",
    "plt.yticks([0.5, 1.5], [\"No\", \"Yes\"])\n",
    "# Remove the colorbar but keep the width of the heatmap\n",
    "plt.gca().collections[0].colorbar.remove()\n",
    "plt.show()\n",
    "\n",
    "fig.savefig(\"plots/gpt4o_metastatic_confusion.png\", dpi=300, bbox_inches=\"tight\")"
   ]
  },
  {
   "cell_type": "code",
   "execution_count": 15,
   "metadata": {},
   "outputs": [
    {
     "name": "stdout",
     "output_type": "stream",
     "text": [
      "family\n",
      "All                     0.86\n",
      "Breast/Gynecological    0.84\n",
      "Gastrointestinal        0.78\n",
      "Head & neck             0.90\n",
      "Lung/Thoracic           0.59\n",
      "Neuro                   0.57\n",
      "Skin/Soft tissue        0.71\n",
      "Urogenital              0.89\n",
      "dtype: float64\n"
     ]
    }
   ],
   "source": [
    "# Calculate the F1 score for local per family\n",
    "\n",
    "precision_gpt4o_local_per_family = df.groupby(\"family\").apply(lambda x: np.sum((x[\"gpt4o_local\"] == True) & (x[\"ground_truth_local\"] == True))/ np.sum(x[\"gpt4o_local\"] == True))\n",
    "recall_gpt4o_local_per_family = df.groupby(\"family\").apply(lambda x: np.sum((x[\"gpt4o_local\"] == True) & (x[\"ground_truth_local\"] == True))/ np.sum(x[\"ground_truth_local\"] == True))\n",
    "f1_score_gpt4o_local_per_family = 2 * precision_gpt4o_local_per_family * recall_gpt4o_local_per_family / (precision_gpt4o_local_per_family + recall_gpt4o_local_per_family)\n",
    "f1_score_gpt4o_local_per_family = f1_score_gpt4o_local_per_family.round(2)\n",
    "\n",
    "print(f1_score_gpt4o_local_per_family)\n"
   ]
  },
  {
   "cell_type": "code",
   "execution_count": 16,
   "metadata": {},
   "outputs": [
    {
     "name": "stdout",
     "output_type": "stream",
     "text": [
      "family\n",
      "All                     0.92\n",
      "Breast/Gynecological    0.94\n",
      "Gastrointestinal        1.00\n",
      "Head & neck             1.00\n",
      "Lung/Thoracic           0.99\n",
      "Neuro                   0.80\n",
      "Skin/Soft tissue        0.96\n",
      "Urogenital              0.99\n",
      "dtype: float64\n"
     ]
    }
   ],
   "source": [
    "# Calculate the F1 score for metastatic per family\n",
    "precision_gpt4o_metastatic_per_family = df.groupby(\"family\").apply(lambda x: np.sum((x[\"gpt4o_metastatic\"] == True) & (x[\"ground_truth_metastatic\"] == True))/ np.sum(x[\"gpt4o_metastatic\"] == True))\n",
    "recall_gpt4o_metastatic_per_family = df.groupby(\"family\").apply(lambda x: np.sum((x[\"gpt4o_metastatic\"] == True) & (x[\"ground_truth_metastatic\"] == True))/ np.sum(x[\"ground_truth_metastatic\"] == True))\n",
    "f1_score_gpt4o_metastatic_per_family = 2 * precision_gpt4o_metastatic_per_family * recall_gpt4o_metastatic_per_family / (precision_gpt4o_metastatic_per_family + recall_gpt4o_metastatic_per_family)\n",
    "f1_score_gpt4o_metastatic_per_family = f1_score_gpt4o_metastatic_per_family.round(2)\n",
    "\n",
    "print(f1_score_gpt4o_metastatic_per_family)"
   ]
  },
  {
   "cell_type": "markdown",
   "metadata": {},
   "source": [
    "# o1\n"
   ]
  },
  {
   "cell_type": "code",
   "execution_count": 17,
   "metadata": {},
   "outputs": [
    {
     "name": "stdout",
     "output_type": "stream",
     "text": [
      "Accuracy: 0.88 (0.86 - 0.91)\n",
      "Precision: 0.99 (0.98 - 1.00)\n",
      "Recall: 0.85 (0.82 - 0.88)\n",
      "F1 score: 0.91 (0.89 - 0.94)\n"
     ]
    }
   ],
   "source": [
    "# Create confusion matrix of predicted and actual values for LOCAL\n",
    "cm_o1_local = pd.crosstab(df[\"ground_truth_local\"], df[\"o1_local\"])\n",
    "\n",
    "#  Calculate true positives, false positives, false negatives, and true negatives\n",
    "tp_o1_local = cm_o1_local.loc[True, True]\n",
    "fp_o1_local = cm_o1_local.loc[False, True]\n",
    "fn_o1_local = cm_o1_local.loc[True, False]\n",
    "tn_o1_local = cm_o1_local.loc[False, False]\n",
    "\n",
    "# Calculate accuracy, precision, recall, f1 score\n",
    "accuracy_o1_local = (tp_o1_local + tn_o1_local) / (tp_o1_local + tn_o1_local + fp_o1_local + fn_o1_local)\n",
    "precision_o1_local = tp_o1_local / (tp_o1_local + fp_o1_local)\n",
    "recall_o1_local = tp_o1_local / (tp_o1_local + fn_o1_local)\n",
    "f1_score_o1_local = 2 * precision_o1_local * recall_o1_local / (precision_o1_local + recall_o1_local)\n",
    "\n",
    "# Calculate the 95% confidence interval for the accuracy, precision, recall, and f1 score\n",
    "accuracy_o1_local_ci = 1.96 * np.sqrt((accuracy_o1_local * (1 - accuracy_o1_local)) / df.shape[0])\n",
    "precision_o1_local_ci = 1.96 * np.sqrt((precision_o1_local * (1 - precision_o1_local)) / df.shape[0])\n",
    "recall_o1_local_ci = 1.96 * np.sqrt((recall_o1_local * (1 - recall_o1_local)) / df.shape[0])\n",
    "f1_score_o1_local_ci = 1.96 * np.sqrt((f1_score_o1_local * (1 - f1_score_o1_local)) / df.shape[0])\n",
    "\n",
    "print(f\"Accuracy: {accuracy_o1_local:.2f} ({accuracy_o1_local-accuracy_o1_local_ci:.2f} - {accuracy_o1_local+accuracy_o1_local_ci:.2f})\")\n",
    "print(f\"Precision: {precision_o1_local:.2f} ({precision_o1_local-precision_o1_local_ci:.2f} - {precision_o1_local+precision_o1_local_ci:.2f})\")\n",
    "print(f\"Recall: {recall_o1_local:.2f} ({recall_o1_local-recall_o1_local_ci:.2f} - {recall_o1_local+recall_o1_local_ci:.2f})\")\n",
    "print(f\"F1 score: {f1_score_o1_local:.2f} ({f1_score_o1_local-f1_score_o1_local_ci:.2f} - {f1_score_o1_local+f1_score_o1_local_ci:.2f})\")\n"
   ]
  },
  {
   "cell_type": "code",
   "execution_count": 18,
   "metadata": {},
   "outputs": [
    {
     "data": {
      "image/png": "[encoded data removed]",
      "text/plain": [
       "<Figure size 500x500 with 1 Axes>"
      ]
     },
     "metadata": {},
     "output_type": "display_data"
    }
   ],
   "source": [
    "# Create confusion matrix of predicted and actual values for LOCAL\n",
    "fig = plt.figure(figsize=(5, 5))\n",
    "\n",
    "# Create labels with counts and percentages\n",
    "labels_o1_local = cm_o1_local.values.astype(str)\n",
    "labels_o1_local[0, 0] = f\"{cm_o1_local.values[0,0]} ({100 * tn_o1_local/df.shape[0]:.1f}%)\"\n",
    "labels_o1_local[0, 1] = f\"{cm_o1_local.values[0,1]} ({100 * fp_o1_local/df.shape[0]:.1f}%)\"\n",
    "labels_o1_local[1, 0] = f\"{cm_o1_local.values[1,0]} ({100 * fn_o1_local/df.shape[0]:.1f}%)\"\n",
    "labels_o1_local[1, 1] = f\"{cm_o1_local.values[1,1]} ({100 * tp_o1_local/df.shape[0]:.1f}%)\"\n",
    "\n",
    "sns.heatmap(cm_o1_local, annot=labels_o1_local, fmt=\"\", cmap=\"Blues\")\n",
    "plt.xlabel(\"Predicted\")\n",
    "plt.ylabel(\"Actual\")\n",
    "plt.xticks([0.5, 1.5], [\"No\", \"Yes\"])\n",
    "plt.yticks([0.5, 1.5], [\"No\", \"Yes\"])\n",
    "# Remove the colorbar but keep the width of the heatmap\n",
    "plt.gca().collections[0].colorbar.remove()\n",
    "plt.show()\n",
    "\n",
    "fig.savefig(\"plots/o1_local_confusion.png\", dpi=300, bbox_inches=\"tight\")"
   ]
  },
  {
   "cell_type": "code",
   "execution_count": 19,
   "metadata": {},
   "outputs": [
    {
     "name": "stdout",
     "output_type": "stream",
     "text": [
      "Accuracy: 0.99 (0.98 - 1.00)\n",
      "Precision: 0.99 (0.98 - 1.00)\n",
      "Recall: 0.99 (0.99 - 1.00)\n",
      "F1 score: 0.99 (0.99 - 1.00)\n"
     ]
    }
   ],
   "source": [
    "# Create confusion matrix of predicted and actual values for METASTATIC\n",
    "cm_o1_metastatic = pd.crosstab(df[\"ground_truth_metastatic\"], df[\"o1_metastatic\"])\n",
    "\n",
    "# Calculate true positives, false positives, false negatives, and true negatives\n",
    "tp_o1_metastatic = cm_o1_metastatic.loc[True, True]\n",
    "fp_o1_metastatic = cm_o1_metastatic.loc[False, True]\n",
    "fn_o1_metastatic = cm_o1_metastatic.loc[True, False]\n",
    "tn_o1_metastatic = cm_o1_metastatic.loc[False, False]\n",
    "\n",
    "# Calculate accuracy, precision, recall, f1 score\n",
    "accuracy_o1_metastatic = (tp_o1_metastatic + tn_o1_metastatic) / (\n",
    "    tp_o1_metastatic + tn_o1_metastatic + fp_o1_metastatic + fn_o1_metastatic\n",
    ")\n",
    "precision_o1_metastatic = tp_o1_metastatic / (tp_o1_metastatic + fp_o1_metastatic)\n",
    "recall_o1_metastatic = tp_o1_metastatic / (tp_o1_metastatic + fn_o1_metastatic)\n",
    "f1_score_o1_metastatic = (\n",
    "    2\n",
    "    * precision_o1_metastatic\n",
    "    * recall_o1_metastatic\n",
    "    / (precision_o1_metastatic + recall_o1_metastatic)\n",
    ")\n",
    "\n",
    "# Calculate the 95% confidence interval for the accuracy, precision, recall, and f1 score\n",
    "accuracy_o1_metastatic_ci = 1.96 * np.sqrt((accuracy_o1_metastatic * (1 - accuracy_o1_metastatic)) / df.shape[0])\n",
    "precision_o1_metastatic_ci = 1.96 * np.sqrt((precision_o1_metastatic * (1 - precision_o1_metastatic)) / df.shape[0])\n",
    "recall_o1_metastatic_ci = 1.96 * np.sqrt((recall_o1_metastatic * (1 - recall_o1_metastatic)) / df.shape[0])\n",
    "f1_score_o1_metastatic_ci = 1.96 * np.sqrt((f1_score_o1_metastatic * (1 - f1_score_o1_metastatic)) / df.shape[0])\n",
    "\n",
    "print(f\"Accuracy: {accuracy_o1_metastatic:.2f} ({accuracy_o1_metastatic-accuracy_o1_metastatic_ci:.2f} - {accuracy_o1_metastatic+accuracy_o1_metastatic_ci:.2f})\")\n",
    "print(f\"Precision: {precision_o1_metastatic:.2f} ({precision_o1_metastatic-precision_o1_metastatic_ci:.2f} - {precision_o1_metastatic+precision_o1_metastatic_ci:.2f})\")\n",
    "print(f\"Recall: {recall_o1_metastatic:.2f} ({recall_o1_metastatic-recall_o1_metastatic_ci:.2f} - {recall_o1_metastatic+recall_o1_metastatic_ci:.2f})\")\n",
    "print(f\"F1 score: {f1_score_o1_metastatic:.2f} ({f1_score_o1_metastatic-f1_score_o1_metastatic_ci:.2f} - {f1_score_o1_metastatic+f1_score_o1_metastatic_ci:.2f})\")"
   ]
  },
  {
   "cell_type": "code",
   "execution_count": 20,
   "metadata": {},
   "outputs": [
    {
     "data": {
      "image/png": "[encoded data removed]",
      "text/plain": [
       "<Figure size 500x500 with 1 Axes>"
      ]
     },
     "metadata": {},
     "output_type": "display_data"
    }
   ],
   "source": [
    "# Create confusion matrix of predicted and actual values for METASTATIC\n",
    "fig = plt.figure(figsize=(5, 5))\n",
    "\n",
    "# Create labels with counts and percentages\n",
    "labels_o1_metastatic = cm_o1_metastatic.values.astype(str)\n",
    "labels_o1_metastatic[0, 0] = f\"{cm_o1_metastatic.values[0,0]} ({100 * tn_o1_metastatic/df.shape[0]:.1f}%)\"\n",
    "labels_o1_metastatic[0, 1] = f\"{cm_o1_metastatic.values[0,1]} ({100 * fp_o1_metastatic/df.shape[0]:.1f}%)\"\n",
    "labels_o1_metastatic[1, 0] = f\"{cm_o1_metastatic.values[1,0]} ({100 * fn_o1_metastatic/df.shape[0]:.1f}%)\"\n",
    "labels_o1_metastatic[1, 1] = f\"{cm_o1_metastatic.values[1,1]} ({100 * tp_o1_metastatic/df.shape[0]:.1f}%)\"\n",
    "\n",
    "sns.heatmap(cm_o1_metastatic, annot=labels_o1_metastatic, fmt=\"\", cmap=\"Blues\")\n",
    "plt.xlabel(\"Predicted\")\n",
    "plt.ylabel(\"Actual\")\n",
    "plt.xticks([0.5, 1.5], [\"No\", \"Yes\"])\n",
    "plt.yticks([0.5, 1.5], [\"No\", \"Yes\"])\n",
    "# Remove the colorbar but keep the width of the heatmap\n",
    "plt.gca().collections[0].colorbar.remove()\n",
    "plt.show()\n",
    "\n",
    "fig.savefig(\"plots/o1_metastatic_confusion.png\", dpi=300, bbox_inches=\"tight\")"
   ]
  },
  {
   "cell_type": "code",
   "execution_count": 21,
   "metadata": {},
   "outputs": [
    {
     "name": "stdout",
     "output_type": "stream",
     "text": [
      "family\n",
      "All                     0.88\n",
      "Breast/Gynecological    0.95\n",
      "Gastrointestinal        0.85\n",
      "Head & neck             0.90\n",
      "Lung/Thoracic           0.79\n",
      "Neuro                   0.89\n",
      "Skin/Soft tissue        0.94\n",
      "Urogenital              0.95\n",
      "dtype: float64\n"
     ]
    }
   ],
   "source": [
    "# Calculate the F1 score for local per family\n",
    "precision_o1_local_per_family = df.groupby(\"family\").apply(lambda x: np.sum((x[\"o1_local\"] == True) & (x[\"ground_truth_local\"] == True))/ np.sum(x[\"o1_local\"] == True))\n",
    "recall_o1_local_per_family = df.groupby(\"family\").apply(lambda x: np.sum((x[\"o1_local\"] == True) & (x[\"ground_truth_local\"] == True))/ np.sum(x[\"ground_truth_local\"] == True))\n",
    "f1_score_o1_local_per_family = 2 * precision_o1_local_per_family * recall_o1_local_per_family / (precision_o1_local_per_family + recall_o1_local_per_family)\n",
    "f1_score_o1_local_per_family = f1_score_o1_local_per_family.round(2)\n",
    "\n",
    "print(f1_score_o1_local_per_family)"
   ]
  },
  {
   "cell_type": "code",
   "execution_count": 22,
   "metadata": {},
   "outputs": [
    {
     "name": "stdout",
     "output_type": "stream",
     "text": [
      "family\n",
      "All                     1.00\n",
      "Breast/Gynecological    0.98\n",
      "Gastrointestinal        0.98\n",
      "Head & neck             0.92\n",
      "Lung/Thoracic           0.99\n",
      "Neuro                   0.91\n",
      "Skin/Soft tissue        1.00\n",
      "Urogenital              0.99\n",
      "dtype: float64\n"
     ]
    }
   ],
   "source": [
    "# Calculate the F1 score for metastatic per family\n",
    "precision_o1_metastatic_per_family = df.groupby(\"family\").apply(lambda x: np.sum((x[\"o1_metastatic\"] == True) & (x[\"ground_truth_metastatic\"] == True))/ np.sum(x[\"o1_metastatic\"] == True))\n",
    "recall_o1_metastatic_per_family = df.groupby(\"family\").apply(lambda x: np.sum((x[\"o1_metastatic\"] == True) & (x[\"ground_truth_metastatic\"] == True))/ np.sum(x[\"ground_truth_metastatic\"] == True))\n",
    "f1_score_o1_metastatic_per_family = 2 * precision_o1_metastatic_per_family * recall_o1_metastatic_per_family / (precision_o1_metastatic_per_family + recall_o1_metastatic_per_family)\n",
    "f1_score_o1_metastatic_per_family = f1_score_o1_metastatic_per_family.round(2)\n",
    "\n",
    "print(f1_score_o1_metastatic_per_family)"
   ]
  },
  {
   "cell_type": "markdown",
   "metadata": {},
   "source": [
    "## Analyse incorrect predictions by o1"
   ]
  },
  {
   "cell_type": "code",
   "execution_count": 23,
   "metadata": {},
   "outputs": [],
   "source": [
    "# Create a dataframe of false positives for o1 local\n",
    "df_fp_o1_local = df[(df[\"o1_local\"] == True) & (df[\"ground_truth_local\"] == False)]\n",
    "\n",
    "# Create a dataframe of false negatives for o1 local\n",
    "df_fn_o1_local = df[(df[\"o1_local\"] == False) & (df[\"ground_truth_local\"] == True)]\n",
    "\n",
    "# Create a dataframe of false positives for o1 metastatic\n",
    "df_fp_o1_metastatic = df[(df[\"o1_metastatic\"] == True) & (df[\"ground_truth_metastatic\"] == False)]\n",
    "\n",
    "# Create a dataframe of false negatives for o1 metastatic\n",
    "df_fn_o1_metastatic = df[(df[\"o1_metastatic\"] == False) & (df[\"ground_truth_metastatic\"] == True)]"
   ]
  },
  {
   "cell_type": "markdown",
   "metadata": {},
   "source": [
    "### False negatives local"
   ]
  },
  {
   "cell_type": "code",
   "execution_count": 24,
   "metadata": {},
   "outputs": [
    {
     "name": "stdout",
     "output_type": "stream",
     "text": [
      "False negatives that contain the string 'recurrent' in their abstract: 17\n",
      "Percentage of false negatives that contain the string 'recurrent' in their abstract: 26.2%\n",
      "False negatives that contain the string 'advanced' in their abstract: 39\n",
      "Percentage of false negatives that contain the string 'advanced' in their abstract: 60.0%\n",
      "False negatives that contain the string 'locally advanced' in their abstract: 0\n",
      "Percentage of false negatives that contain the string 'locally advanced' in their abstract: 0.0%\n"
     ]
    }
   ],
   "source": [
    "# Check how many of the false negative local predictions contain the string \"recurrent\"\n",
    "print(f\"False negatives that contain the string 'recurrent' in their abstract: {df_fn_o1_local[df_fn_o1_local['abstract'].str.contains('recurrent')].shape[0]}\")\n",
    "print(f\"Percentage of false negatives that contain the string 'recurrent' in their abstract: {100 * df_fn_o1_local[df_fn_o1_local['abstract'].str.contains('recurrent')].shape[0] / df_fn_o1_local.shape[0]:.1f}%\")\n",
    "\n",
    "\n",
    "# Check how many of the false negative local predictions contain the string \"advanced\" in their abstract\n",
    "print(\n",
    "    f\"False negatives that contain the string 'advanced' in their abstract: {df_fn_o1_local[df_fn_o1_local['abstract'].str.contains('advanced')].shape[0]}\"\n",
    ")\n",
    "print(\n",
    "    f\"Percentage of false negatives that contain the string 'advanced' in their abstract: {100 * df_fn_o1_local[df_fn_o1_local['abstract'].str.contains('advanced')].shape[0] / df_fn_o1_local.shape[0]:.1f}%\"\n",
    ")\n",
    "\n",
    "# Check how many of the false negative local predictions contain the string \"locally advanced\"\n",
    "print(\n",
    "    f\"False negatives that contain the string 'locally advanced' in their abstract: {df_fn_o1_local[df_fn_o1_local['abstract'].str.contains('locally advanced')].shape[0]}\"\n",
    ")\n",
    "print(\n",
    "    f\"Percentage of false negatives that contain the string 'locally advanced' in their abstract: {100 * df_fn_o1_local[df_fn_o1_local['abstract'].str.contains('locally advanced')].shape[0] / df_fn_o1_local.shape[0]:.1f}%\"\n",
    ")"
   ]
  },
  {
   "cell_type": "markdown",
   "metadata": {},
   "source": [
    "### False negatives local"
   ]
  },
  {
   "cell_type": "code",
   "execution_count": 25,
   "metadata": {},
   "outputs": [
    {
     "name": "stdout",
     "output_type": "stream",
     "text": [
      "['10.1200/JCO.20.02755', '10.1056/NEJMoa2112187', '10.1016/S1470-2045(10)70112-1', '10.1056/NEJMoa0810699', '10.1056/NEJMoa1611310', '10.1200/JCO.2010.28.0982', '10.1016/S1470-2045(12)70490-4', '10.1056/NEJMoa1910231', '10.1200/JCO.2006.06.0483', '10.1016/S1470-2045(11)70102-4', '10.1200/JCO.22.00332', '10.1016/S1470-2045(22)00603-9', '10.1056/NEJMoa1801946', '10.1200/JCO.2008.17.0530', '10.1200/JCO.2014.55.5789', '10.1016/S1470-2045(16)00106-6', '10.1016/S1470-2045(13)70067-6', '10.1016/S1470-2045(08)70261-4', '10.1200/JCO.2007.13.0856', '10.1200/JCO.2012.46.1764', '10.1200/JCO.2011.36.1709', '10.1056/NEJMoa1713137', '10.1200/JCO.2010.34.3178', '10.1016/S1470-2045(20)30493-9', '10.1200/JCO.23.00971', '10.1200/JCO.2004.10.020', '10.1200/JCO.2009.26.6452', '10.1001/jamaoncol.2022.5999', '10.1200/JCO.2005.03.616', '10.1200/JCO.2008.17.3138', '10.1016/S1470-2045(18)30372-3', '10.1016/S0140-6736(15)01283-0', '10.1200/JCO.2007.12.2614', '10.1200/JCO.2012.45.0494', '10.1200/JCO.2013.53.7746', '10.1016/S1470-2045(13)70453-4', '10.1200/JCO.2012.42.0505', '10.1200/JCO.2012.44.4661', '10.1056/NEJMoa1613493', '10.1016/S0140-6736(16)32517-X', '10.1056/NEJMoa1207506', '10.1001/jamaoncol.2019.4782', '10.1200/JCO.2012.47.4189', '10.1200/JCO.2012.48.4410', '10.1200/JCO.2007.14.5029', '10.1200/JCO.21.01801', '10.1200/JCO.2010.33.6107', '10.1001/jamaoncol.2018.1888', '10.1200/JCO.2007.15.0672', '10.1001/jamaoncol.2018.3039', '10.1056/NEJMoa2004413', '10.1016/S0140-6736(15)00817-X', '10.1001/jamaoncol.2022.5218', '10.1200/JCO.22.02777', '10.1016/S1470-2045(21)00302-8', '10.1016/S1470-2045(20)30307-7', '10.1200/JCO.2006.08.3956', '10.1056/NEJMoa2114663', '10.1056/NEJMoa2035716', '10.1200/JCO.2008.20.5534', '10.1200/JCO.2014.59.9324', '10.1200/JCO.2008.17.8400', '10.1200/JCO.2005.02.028', '10.1016/S1470-2045(19)30515-7', '10.1016/S1470-2045(21)00098-X']\n"
     ]
    }
   ],
   "source": [
    "# Print the dois of the false negatives local\n",
    "print(df_fn_o1_local[\"doi\"].tolist())"
   ]
  },
  {
   "cell_type": "markdown",
   "metadata": {},
   "source": [
    "### False positives local\n"
   ]
  },
  {
   "cell_type": "code",
   "execution_count": 26,
   "metadata": {},
   "outputs": [
    {
     "name": "stdout",
     "output_type": "stream",
     "text": [
      "['10.1056/NEJMoa1506197', '10.1016/S0140-6736(10)60551-X', '10.1016/S0140-6736(12)62186-2', '10.1056/NEJMoa050493', '10.1001/jama.2019.4755']\n"
     ]
    }
   ],
   "source": [
    "# Print the dois of the false positives local\n",
    "print(df_fp_o1_local[\"doi\"].tolist())"
   ]
  },
  {
   "cell_type": "markdown",
   "metadata": {},
   "source": [
    "### False negatives metastatic"
   ]
  },
  {
   "cell_type": "code",
   "execution_count": 27,
   "metadata": {},
   "outputs": [
    {
     "name": "stdout",
     "output_type": "stream",
     "text": [
      "['10.1200/JCO.2005.09.102', '10.1200/JCO.2005.09.050']\n"
     ]
    }
   ],
   "source": [
    "# Print the dois of the false negatives metastatic\n",
    "print(df_fn_o1_metastatic[\"doi\"].tolist())"
   ]
  },
  {
   "cell_type": "markdown",
   "metadata": {},
   "source": [
    "### False positives metastatic"
   ]
  },
  {
   "cell_type": "code",
   "execution_count": 28,
   "metadata": {},
   "outputs": [
    {
     "name": "stdout",
     "output_type": "stream",
     "text": [
      "['10.1200/JCO.2006.06.6027', '10.1200/JCO.2009.23.5150', '10.1200/JCO.21.00703']\n"
     ]
    }
   ],
   "source": [
    "# Print the dois of the false positives metastatic\n",
    "print(df_fp_o1_metastatic[\"doi\"].tolist())\n"
   ]
  },
  {
   "cell_type": "code",
   "execution_count": 30,
   "metadata": {},
   "outputs": [],
   "source": [
    "# Create a new csv that contains only the columns doi and accept\n",
    "df_accepted = df[[\"doi\", \"accept\"]]\n",
    "\n",
    "# Rename the column accept to accept_new\n",
    "df_accepted = df_accepted.rename(columns={\"accept\": \"accept_new\"})\n",
    "\n",
    "# Save the dataframe to a csv file\n",
    "df_accepted.to_csv(\"accepted_new.csv\", index=False)"
   ]
  },
  {
   "cell_type": "code",
   "execution_count": null,
   "metadata": {},
   "outputs": [],
   "source": []
  }
 ],
 "metadata": {
  "kernelspec": {
   "display_name": "llms",
   "language": "python",
   "name": "python3"
  },
  "language_info": {
   "codemirror_mode": {
    "name": "ipython",
    "version": 3
   },
   "file_extension": ".py",
   "mimetype": "text/x-python",
   "name": "python",
   "nbconvert_exporter": "python",
   "pygments_lexer": "ipython3",
   "version": "3.11.5"
  }
 },
 "nbformat": 4,
 "nbformat_minor": 2
}
